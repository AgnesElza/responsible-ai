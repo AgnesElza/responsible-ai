{
  "nbformat": 4,
  "nbformat_minor": 0,
  "metadata": {
    "colab": {
      "provenance": [],
      "authorship_tag": "ABX9TyMP6nVFjADDp/sMg6aPnk2o",
      "include_colab_link": true
    },
    "kernelspec": {
      "name": "python3",
      "display_name": "Python 3"
    },
    "language_info": {
      "name": "python"
    }
  },
  "cells": [
    {
      "cell_type": "markdown",
      "metadata": {
        "id": "view-in-github",
        "colab_type": "text"
      },
      "source": [
        "<a href=\"https://colab.research.google.com/github/AgnesElza/responsible-ai/blob/main/bias_mitigation_upsampling_fairlearn.ipynb\" target=\"_parent\"><img src=\"https://colab.research.google.com/assets/colab-badge.svg\" alt=\"Open In Colab\"/></a>"
      ]
    },
    {
      "cell_type": "markdown",
      "source": [
        "# Download and load dataset"
      ],
      "metadata": {
        "id": "5X6x-vY9ZpqM"
      }
    },
    {
      "cell_type": "code",
      "source": [
        "!wget https://archive.ics.uci.edu/ml/machine-learning-databases/adult/adult.data"
      ],
      "metadata": {
        "colab": {
          "base_uri": "https://localhost:8080/"
        },
        "id": "p1GOQHfQYq8i",
        "outputId": "61d1b151-1133-4007-edb1-ff5dc990e2ce"
      },
      "execution_count": null,
      "outputs": [
        {
          "output_type": "stream",
          "name": "stdout",
          "text": [
            "--2025-08-21 12:14:40--  https://archive.ics.uci.edu/ml/machine-learning-databases/adult/adult.data\n",
            "Resolving archive.ics.uci.edu (archive.ics.uci.edu)... 128.195.10.252\n",
            "Connecting to archive.ics.uci.edu (archive.ics.uci.edu)|128.195.10.252|:443... connected.\n",
            "HTTP request sent, awaiting response... 200 OK\n",
            "Length: unspecified\n",
            "Saving to: ‘adult.data.1’\n",
            "\n",
            "adult.data.1            [  <=>               ]   3.79M  16.5MB/s    in 0.2s    \n",
            "\n",
            "2025-08-21 12:14:41 (16.5 MB/s) - ‘adult.data.1’ saved [3974305]\n",
            "\n"
          ]
        }
      ]
    },
    {
      "cell_type": "code",
      "metadata": {
        "colab": {
          "base_uri": "https://localhost:8080/",
          "height": 379
        },
        "id": "34e50a33",
        "outputId": "4e4815ad-35c8-4125-a95f-cd19d6af32b7"
      },
      "source": [
        "import pandas as pd\n",
        "\n",
        "# Define the column names as they are not included in the dataset file\n",
        "column_names = [\n",
        "    'age', 'workclass', 'fnlwgt', 'education', 'education-num',\n",
        "    'marital-status', 'occupation', 'relationship', 'race', 'sex',\n",
        "    'capital-gain', 'capital-loss', 'hours-per-week', 'native-country', 'income'\n",
        "]\n",
        "\n",
        "# Load the dataset, specifying no header and providing column names\n",
        "adult_df = pd.read_csv('adult.data', header=None, names=column_names)\n",
        "\n",
        "# Display the first 5 rows of the DataFrame\n",
        "display(adult_df.head())"
      ],
      "execution_count": null,
      "outputs": [
        {
          "output_type": "display_data",
          "data": {
            "text/plain": [
              "   age          workclass  fnlwgt   education  education-num  \\\n",
              "0   39          State-gov   77516   Bachelors             13   \n",
              "1   50   Self-emp-not-inc   83311   Bachelors             13   \n",
              "2   38            Private  215646     HS-grad              9   \n",
              "3   53            Private  234721        11th              7   \n",
              "4   28            Private  338409   Bachelors             13   \n",
              "\n",
              "        marital-status          occupation    relationship    race      sex  \\\n",
              "0        Never-married        Adm-clerical   Not-in-family   White     Male   \n",
              "1   Married-civ-spouse     Exec-managerial         Husband   White     Male   \n",
              "2             Divorced   Handlers-cleaners   Not-in-family   White     Male   \n",
              "3   Married-civ-spouse   Handlers-cleaners         Husband   Black     Male   \n",
              "4   Married-civ-spouse      Prof-specialty            Wife   Black   Female   \n",
              "\n",
              "   capital-gain  capital-loss  hours-per-week  native-country  income  \n",
              "0          2174             0              40   United-States   <=50K  \n",
              "1             0             0              13   United-States   <=50K  \n",
              "2             0             0              40   United-States   <=50K  \n",
              "3             0             0              40   United-States   <=50K  \n",
              "4             0             0              40            Cuba   <=50K  "
            ],
            "text/html": [
              "\n",
              "  <div id=\"df-d372b8e0-605d-4b74-a296-38c45ceea837\" class=\"colab-df-container\">\n",
              "    <div>\n",
              "<style scoped>\n",
              "    .dataframe tbody tr th:only-of-type {\n",
              "        vertical-align: middle;\n",
              "    }\n",
              "\n",
              "    .dataframe tbody tr th {\n",
              "        vertical-align: top;\n",
              "    }\n",
              "\n",
              "    .dataframe thead th {\n",
              "        text-align: right;\n",
              "    }\n",
              "</style>\n",
              "<table border=\"1\" class=\"dataframe\">\n",
              "  <thead>\n",
              "    <tr style=\"text-align: right;\">\n",
              "      <th></th>\n",
              "      <th>age</th>\n",
              "      <th>workclass</th>\n",
              "      <th>fnlwgt</th>\n",
              "      <th>education</th>\n",
              "      <th>education-num</th>\n",
              "      <th>marital-status</th>\n",
              "      <th>occupation</th>\n",
              "      <th>relationship</th>\n",
              "      <th>race</th>\n",
              "      <th>sex</th>\n",
              "      <th>capital-gain</th>\n",
              "      <th>capital-loss</th>\n",
              "      <th>hours-per-week</th>\n",
              "      <th>native-country</th>\n",
              "      <th>income</th>\n",
              "    </tr>\n",
              "  </thead>\n",
              "  <tbody>\n",
              "    <tr>\n",
              "      <th>0</th>\n",
              "      <td>39</td>\n",
              "      <td>State-gov</td>\n",
              "      <td>77516</td>\n",
              "      <td>Bachelors</td>\n",
              "      <td>13</td>\n",
              "      <td>Never-married</td>\n",
              "      <td>Adm-clerical</td>\n",
              "      <td>Not-in-family</td>\n",
              "      <td>White</td>\n",
              "      <td>Male</td>\n",
              "      <td>2174</td>\n",
              "      <td>0</td>\n",
              "      <td>40</td>\n",
              "      <td>United-States</td>\n",
              "      <td>&lt;=50K</td>\n",
              "    </tr>\n",
              "    <tr>\n",
              "      <th>1</th>\n",
              "      <td>50</td>\n",
              "      <td>Self-emp-not-inc</td>\n",
              "      <td>83311</td>\n",
              "      <td>Bachelors</td>\n",
              "      <td>13</td>\n",
              "      <td>Married-civ-spouse</td>\n",
              "      <td>Exec-managerial</td>\n",
              "      <td>Husband</td>\n",
              "      <td>White</td>\n",
              "      <td>Male</td>\n",
              "      <td>0</td>\n",
              "      <td>0</td>\n",
              "      <td>13</td>\n",
              "      <td>United-States</td>\n",
              "      <td>&lt;=50K</td>\n",
              "    </tr>\n",
              "    <tr>\n",
              "      <th>2</th>\n",
              "      <td>38</td>\n",
              "      <td>Private</td>\n",
              "      <td>215646</td>\n",
              "      <td>HS-grad</td>\n",
              "      <td>9</td>\n",
              "      <td>Divorced</td>\n",
              "      <td>Handlers-cleaners</td>\n",
              "      <td>Not-in-family</td>\n",
              "      <td>White</td>\n",
              "      <td>Male</td>\n",
              "      <td>0</td>\n",
              "      <td>0</td>\n",
              "      <td>40</td>\n",
              "      <td>United-States</td>\n",
              "      <td>&lt;=50K</td>\n",
              "    </tr>\n",
              "    <tr>\n",
              "      <th>3</th>\n",
              "      <td>53</td>\n",
              "      <td>Private</td>\n",
              "      <td>234721</td>\n",
              "      <td>11th</td>\n",
              "      <td>7</td>\n",
              "      <td>Married-civ-spouse</td>\n",
              "      <td>Handlers-cleaners</td>\n",
              "      <td>Husband</td>\n",
              "      <td>Black</td>\n",
              "      <td>Male</td>\n",
              "      <td>0</td>\n",
              "      <td>0</td>\n",
              "      <td>40</td>\n",
              "      <td>United-States</td>\n",
              "      <td>&lt;=50K</td>\n",
              "    </tr>\n",
              "    <tr>\n",
              "      <th>4</th>\n",
              "      <td>28</td>\n",
              "      <td>Private</td>\n",
              "      <td>338409</td>\n",
              "      <td>Bachelors</td>\n",
              "      <td>13</td>\n",
              "      <td>Married-civ-spouse</td>\n",
              "      <td>Prof-specialty</td>\n",
              "      <td>Wife</td>\n",
              "      <td>Black</td>\n",
              "      <td>Female</td>\n",
              "      <td>0</td>\n",
              "      <td>0</td>\n",
              "      <td>40</td>\n",
              "      <td>Cuba</td>\n",
              "      <td>&lt;=50K</td>\n",
              "    </tr>\n",
              "  </tbody>\n",
              "</table>\n",
              "</div>\n",
              "    <div class=\"colab-df-buttons\">\n",
              "\n",
              "  <div class=\"colab-df-container\">\n",
              "    <button class=\"colab-df-convert\" onclick=\"convertToInteractive('df-d372b8e0-605d-4b74-a296-38c45ceea837')\"\n",
              "            title=\"Convert this dataframe to an interactive table.\"\n",
              "            style=\"display:none;\">\n",
              "\n",
              "  <svg xmlns=\"http://www.w3.org/2000/svg\" height=\"24px\" viewBox=\"0 -960 960 960\">\n",
              "    <path d=\"M120-120v-720h720v720H120Zm60-500h600v-160H180v160Zm220 220h160v-160H400v160Zm0 220h160v-160H400v160ZM180-400h160v-160H180v160Zm440 0h160v-160H620v160ZM180-180h160v-160H180v160Zm440 0h160v-160H620v160Z\"/>\n",
              "  </svg>\n",
              "    </button>\n",
              "\n",
              "  <style>\n",
              "    .colab-df-container {\n",
              "      display:flex;\n",
              "      gap: 12px;\n",
              "    }\n",
              "\n",
              "    .colab-df-convert {\n",
              "      background-color: #E8F0FE;\n",
              "      border: none;\n",
              "      border-radius: 50%;\n",
              "      cursor: pointer;\n",
              "      display: none;\n",
              "      fill: #1967D2;\n",
              "      height: 32px;\n",
              "      padding: 0 0 0 0;\n",
              "      width: 32px;\n",
              "    }\n",
              "\n",
              "    .colab-df-convert:hover {\n",
              "      background-color: #E2EBFA;\n",
              "      box-shadow: 0px 1px 2px rgba(60, 64, 67, 0.3), 0px 1px 3px 1px rgba(60, 64, 67, 0.15);\n",
              "      fill: #174EA6;\n",
              "    }\n",
              "\n",
              "    .colab-df-buttons div {\n",
              "      margin-bottom: 4px;\n",
              "    }\n",
              "\n",
              "    [theme=dark] .colab-df-convert {\n",
              "      background-color: #3B4455;\n",
              "      fill: #D2E3FC;\n",
              "    }\n",
              "\n",
              "    [theme=dark] .colab-df-convert:hover {\n",
              "      background-color: #434B5C;\n",
              "      box-shadow: 0px 1px 3px 1px rgba(0, 0, 0, 0.15);\n",
              "      filter: drop-shadow(0px 1px 2px rgba(0, 0, 0, 0.3));\n",
              "      fill: #FFFFFF;\n",
              "    }\n",
              "  </style>\n",
              "\n",
              "    <script>\n",
              "      const buttonEl =\n",
              "        document.querySelector('#df-d372b8e0-605d-4b74-a296-38c45ceea837 button.colab-df-convert');\n",
              "      buttonEl.style.display =\n",
              "        google.colab.kernel.accessAllowed ? 'block' : 'none';\n",
              "\n",
              "      async function convertToInteractive(key) {\n",
              "        const element = document.querySelector('#df-d372b8e0-605d-4b74-a296-38c45ceea837');\n",
              "        const dataTable =\n",
              "          await google.colab.kernel.invokeFunction('convertToInteractive',\n",
              "                                                    [key], {});\n",
              "        if (!dataTable) return;\n",
              "\n",
              "        const docLinkHtml = 'Like what you see? Visit the ' +\n",
              "          '<a target=\"_blank\" href=https://colab.research.google.com/notebooks/data_table.ipynb>data table notebook</a>'\n",
              "          + ' to learn more about interactive tables.';\n",
              "        element.innerHTML = '';\n",
              "        dataTable['output_type'] = 'display_data';\n",
              "        await google.colab.output.renderOutput(dataTable, element);\n",
              "        const docLink = document.createElement('div');\n",
              "        docLink.innerHTML = docLinkHtml;\n",
              "        element.appendChild(docLink);\n",
              "      }\n",
              "    </script>\n",
              "  </div>\n",
              "\n",
              "\n",
              "    <div id=\"df-585e0c41-1253-47e5-821a-0ba503e48534\">\n",
              "      <button class=\"colab-df-quickchart\" onclick=\"quickchart('df-585e0c41-1253-47e5-821a-0ba503e48534')\"\n",
              "                title=\"Suggest charts\"\n",
              "                style=\"display:none;\">\n",
              "\n",
              "<svg xmlns=\"http://www.w3.org/2000/svg\" height=\"24px\"viewBox=\"0 0 24 24\"\n",
              "     width=\"24px\">\n",
              "    <g>\n",
              "        <path d=\"M19 3H5c-1.1 0-2 .9-2 2v14c0 1.1.9 2 2 2h14c1.1 0 2-.9 2-2V5c0-1.1-.9-2-2-2zM9 17H7v-7h2v7zm4 0h-2V7h2v10zm4 0h-2v-4h2v4z\"/>\n",
              "    </g>\n",
              "</svg>\n",
              "      </button>\n",
              "\n",
              "<style>\n",
              "  .colab-df-quickchart {\n",
              "      --bg-color: #E8F0FE;\n",
              "      --fill-color: #1967D2;\n",
              "      --hover-bg-color: #E2EBFA;\n",
              "      --hover-fill-color: #174EA6;\n",
              "      --disabled-fill-color: #AAA;\n",
              "      --disabled-bg-color: #DDD;\n",
              "  }\n",
              "\n",
              "  [theme=dark] .colab-df-quickchart {\n",
              "      --bg-color: #3B4455;\n",
              "      --fill-color: #D2E3FC;\n",
              "      --hover-bg-color: #434B5C;\n",
              "      --hover-fill-color: #FFFFFF;\n",
              "      --disabled-bg-color: #3B4455;\n",
              "      --disabled-fill-color: #666;\n",
              "  }\n",
              "\n",
              "  .colab-df-quickchart {\n",
              "    background-color: var(--bg-color);\n",
              "    border: none;\n",
              "    border-radius: 50%;\n",
              "    cursor: pointer;\n",
              "    display: none;\n",
              "    fill: var(--fill-color);\n",
              "    height: 32px;\n",
              "    padding: 0;\n",
              "    width: 32px;\n",
              "  }\n",
              "\n",
              "  .colab-df-quickchart:hover {\n",
              "    background-color: var(--hover-bg-color);\n",
              "    box-shadow: 0 1px 2px rgba(60, 64, 67, 0.3), 0 1px 3px 1px rgba(60, 64, 67, 0.15);\n",
              "    fill: var(--button-hover-fill-color);\n",
              "  }\n",
              "\n",
              "  .colab-df-quickchart-complete:disabled,\n",
              "  .colab-df-quickchart-complete:disabled:hover {\n",
              "    background-color: var(--disabled-bg-color);\n",
              "    fill: var(--disabled-fill-color);\n",
              "    box-shadow: none;\n",
              "  }\n",
              "\n",
              "  .colab-df-spinner {\n",
              "    border: 2px solid var(--fill-color);\n",
              "    border-color: transparent;\n",
              "    border-bottom-color: var(--fill-color);\n",
              "    animation:\n",
              "      spin 1s steps(1) infinite;\n",
              "  }\n",
              "\n",
              "  @keyframes spin {\n",
              "    0% {\n",
              "      border-color: transparent;\n",
              "      border-bottom-color: var(--fill-color);\n",
              "      border-left-color: var(--fill-color);\n",
              "    }\n",
              "    20% {\n",
              "      border-color: transparent;\n",
              "      border-left-color: var(--fill-color);\n",
              "      border-top-color: var(--fill-color);\n",
              "    }\n",
              "    30% {\n",
              "      border-color: transparent;\n",
              "      border-left-color: var(--fill-color);\n",
              "      border-top-color: var(--fill-color);\n",
              "      border-right-color: var(--fill-color);\n",
              "    }\n",
              "    40% {\n",
              "      border-color: transparent;\n",
              "      border-right-color: var(--fill-color);\n",
              "      border-top-color: var(--fill-color);\n",
              "    }\n",
              "    60% {\n",
              "      border-color: transparent;\n",
              "      border-right-color: var(--fill-color);\n",
              "    }\n",
              "    80% {\n",
              "      border-color: transparent;\n",
              "      border-right-color: var(--fill-color);\n",
              "      border-bottom-color: var(--fill-color);\n",
              "    }\n",
              "    90% {\n",
              "      border-color: transparent;\n",
              "      border-bottom-color: var(--fill-color);\n",
              "    }\n",
              "  }\n",
              "</style>\n",
              "\n",
              "      <script>\n",
              "        async function quickchart(key) {\n",
              "          const quickchartButtonEl =\n",
              "            document.querySelector('#' + key + ' button');\n",
              "          quickchartButtonEl.disabled = true;  // To prevent multiple clicks.\n",
              "          quickchartButtonEl.classList.add('colab-df-spinner');\n",
              "          try {\n",
              "            const charts = await google.colab.kernel.invokeFunction(\n",
              "                'suggestCharts', [key], {});\n",
              "          } catch (error) {\n",
              "            console.error('Error during call to suggestCharts:', error);\n",
              "          }\n",
              "          quickchartButtonEl.classList.remove('colab-df-spinner');\n",
              "          quickchartButtonEl.classList.add('colab-df-quickchart-complete');\n",
              "        }\n",
              "        (() => {\n",
              "          let quickchartButtonEl =\n",
              "            document.querySelector('#df-585e0c41-1253-47e5-821a-0ba503e48534 button');\n",
              "          quickchartButtonEl.style.display =\n",
              "            google.colab.kernel.accessAllowed ? 'block' : 'none';\n",
              "        })();\n",
              "      </script>\n",
              "    </div>\n",
              "\n",
              "    </div>\n",
              "  </div>\n"
            ],
            "application/vnd.google.colaboratory.intrinsic+json": {
              "type": "dataframe",
              "summary": "{\n  \"name\": \"display(adult_df\",\n  \"rows\": 5,\n  \"fields\": [\n    {\n      \"column\": \"age\",\n      \"properties\": {\n        \"dtype\": \"number\",\n        \"std\": 10,\n        \"min\": 28,\n        \"max\": 53,\n        \"num_unique_values\": 5,\n        \"samples\": [\n          50,\n          28,\n          38\n        ],\n        \"semantic_type\": \"\",\n        \"description\": \"\"\n      }\n    },\n    {\n      \"column\": \"workclass\",\n      \"properties\": {\n        \"dtype\": \"string\",\n        \"num_unique_values\": 3,\n        \"samples\": [\n          \" State-gov\",\n          \" Self-emp-not-inc\",\n          \" Private\"\n        ],\n        \"semantic_type\": \"\",\n        \"description\": \"\"\n      }\n    },\n    {\n      \"column\": \"fnlwgt\",\n      \"properties\": {\n        \"dtype\": \"number\",\n        \"std\": 110360,\n        \"min\": 77516,\n        \"max\": 338409,\n        \"num_unique_values\": 5,\n        \"samples\": [\n          83311,\n          338409,\n          215646\n        ],\n        \"semantic_type\": \"\",\n        \"description\": \"\"\n      }\n    },\n    {\n      \"column\": \"education\",\n      \"properties\": {\n        \"dtype\": \"string\",\n        \"num_unique_values\": 3,\n        \"samples\": [\n          \" Bachelors\",\n          \" HS-grad\",\n          \" 11th\"\n        ],\n        \"semantic_type\": \"\",\n        \"description\": \"\"\n      }\n    },\n    {\n      \"column\": \"education-num\",\n      \"properties\": {\n        \"dtype\": \"number\",\n        \"std\": 2,\n        \"min\": 7,\n        \"max\": 13,\n        \"num_unique_values\": 3,\n        \"samples\": [\n          13,\n          9,\n          7\n        ],\n        \"semantic_type\": \"\",\n        \"description\": \"\"\n      }\n    },\n    {\n      \"column\": \"marital-status\",\n      \"properties\": {\n        \"dtype\": \"string\",\n        \"num_unique_values\": 3,\n        \"samples\": [\n          \" Never-married\",\n          \" Married-civ-spouse\",\n          \" Divorced\"\n        ],\n        \"semantic_type\": \"\",\n        \"description\": \"\"\n      }\n    },\n    {\n      \"column\": \"occupation\",\n      \"properties\": {\n        \"dtype\": \"string\",\n        \"num_unique_values\": 4,\n        \"samples\": [\n          \" Exec-managerial\",\n          \" Prof-specialty\",\n          \" Adm-clerical\"\n        ],\n        \"semantic_type\": \"\",\n        \"description\": \"\"\n      }\n    },\n    {\n      \"column\": \"relationship\",\n      \"properties\": {\n        \"dtype\": \"string\",\n        \"num_unique_values\": 3,\n        \"samples\": [\n          \" Not-in-family\",\n          \" Husband\",\n          \" Wife\"\n        ],\n        \"semantic_type\": \"\",\n        \"description\": \"\"\n      }\n    },\n    {\n      \"column\": \"race\",\n      \"properties\": {\n        \"dtype\": \"category\",\n        \"num_unique_values\": 2,\n        \"samples\": [\n          \" Black\",\n          \" White\"\n        ],\n        \"semantic_type\": \"\",\n        \"description\": \"\"\n      }\n    },\n    {\n      \"column\": \"sex\",\n      \"properties\": {\n        \"dtype\": \"category\",\n        \"num_unique_values\": 2,\n        \"samples\": [\n          \" Female\",\n          \" Male\"\n        ],\n        \"semantic_type\": \"\",\n        \"description\": \"\"\n      }\n    },\n    {\n      \"column\": \"capital-gain\",\n      \"properties\": {\n        \"dtype\": \"number\",\n        \"std\": 972,\n        \"min\": 0,\n        \"max\": 2174,\n        \"num_unique_values\": 2,\n        \"samples\": [\n          0,\n          2174\n        ],\n        \"semantic_type\": \"\",\n        \"description\": \"\"\n      }\n    },\n    {\n      \"column\": \"capital-loss\",\n      \"properties\": {\n        \"dtype\": \"number\",\n        \"std\": 0,\n        \"min\": 0,\n        \"max\": 0,\n        \"num_unique_values\": 1,\n        \"samples\": [\n          0\n        ],\n        \"semantic_type\": \"\",\n        \"description\": \"\"\n      }\n    },\n    {\n      \"column\": \"hours-per-week\",\n      \"properties\": {\n        \"dtype\": \"number\",\n        \"std\": 12,\n        \"min\": 13,\n        \"max\": 40,\n        \"num_unique_values\": 2,\n        \"samples\": [\n          13\n        ],\n        \"semantic_type\": \"\",\n        \"description\": \"\"\n      }\n    },\n    {\n      \"column\": \"native-country\",\n      \"properties\": {\n        \"dtype\": \"category\",\n        \"num_unique_values\": 2,\n        \"samples\": [\n          \" Cuba\"\n        ],\n        \"semantic_type\": \"\",\n        \"description\": \"\"\n      }\n    },\n    {\n      \"column\": \"income\",\n      \"properties\": {\n        \"dtype\": \"category\",\n        \"num_unique_values\": 1,\n        \"samples\": [\n          \" <=50K\"\n        ],\n        \"semantic_type\": \"\",\n        \"description\": \"\"\n      }\n    }\n  ]\n}"
            }
          },
          "metadata": {}
        }
      ]
    },
    {
      "cell_type": "markdown",
      "source": [
        "# Exploratory Data Analysis and Data Preprocessing"
      ],
      "metadata": {
        "id": "pg4LEePrZyk8"
      }
    },
    {
      "cell_type": "code",
      "metadata": {
        "colab": {
          "base_uri": "https://localhost:8080/"
        },
        "id": "30761a1f",
        "outputId": "ea0c007a-cb73-408c-8280-0f1b2a63a133"
      },
      "source": [
        "# Check the shape of the DataFrame\n",
        "print(adult_df.shape)"
      ],
      "execution_count": null,
      "outputs": [
        {
          "output_type": "stream",
          "name": "stdout",
          "text": [
            "(32561, 15)\n"
          ]
        }
      ]
    },
    {
      "cell_type": "markdown",
      "source": [
        "### Dropping unnecessary columns\n",
        "fnlwgt: This column, which stands for \"final weight,\" is a statistical sample weight used by the US Census Bureau. It is not a personal attribute of the individual and is generally not considered a meaningful predictive feature for a machine learning model. Using it could introduce unnecessary complexity or noise, so it's best to drop it.\n"
      ],
      "metadata": {
        "id": "ErViOI_RbPc1"
      }
    },
    {
      "cell_type": "code",
      "source": [
        "# Drop the 'fnlwgt' column\n",
        "adult_df = adult_df.drop('fnlwgt', axis=1)\n",
        "\n",
        "# Display the first 5 rows of the DataFrame to confirm the column is dropped\n",
        "display(adult_df.head())"
      ],
      "metadata": {
        "colab": {
          "base_uri": "https://localhost:8080/",
          "height": 327
        },
        "id": "JH7cCaMl_mob",
        "outputId": "86ac7f06-1ef9-4401-f366-3cf788062db4"
      },
      "execution_count": null,
      "outputs": [
        {
          "output_type": "display_data",
          "data": {
            "text/plain": [
              "   age          workclass   education  education-num       marital-status  \\\n",
              "0   39          State-gov   Bachelors             13        Never-married   \n",
              "1   50   Self-emp-not-inc   Bachelors             13   Married-civ-spouse   \n",
              "2   38            Private     HS-grad              9             Divorced   \n",
              "3   53            Private        11th              7   Married-civ-spouse   \n",
              "4   28            Private   Bachelors             13   Married-civ-spouse   \n",
              "\n",
              "           occupation    relationship    race      sex  capital-gain  \\\n",
              "0        Adm-clerical   Not-in-family   White     Male          2174   \n",
              "1     Exec-managerial         Husband   White     Male             0   \n",
              "2   Handlers-cleaners   Not-in-family   White     Male             0   \n",
              "3   Handlers-cleaners         Husband   Black     Male             0   \n",
              "4      Prof-specialty            Wife   Black   Female             0   \n",
              "\n",
              "   capital-loss  hours-per-week  native-country  income  \n",
              "0             0              40   United-States   <=50K  \n",
              "1             0              13   United-States   <=50K  \n",
              "2             0              40   United-States   <=50K  \n",
              "3             0              40   United-States   <=50K  \n",
              "4             0              40            Cuba   <=50K  "
            ],
            "text/html": [
              "\n",
              "  <div id=\"df-57c0cbe4-09b7-4d0f-a1f4-396f465cfb92\" class=\"colab-df-container\">\n",
              "    <div>\n",
              "<style scoped>\n",
              "    .dataframe tbody tr th:only-of-type {\n",
              "        vertical-align: middle;\n",
              "    }\n",
              "\n",
              "    .dataframe tbody tr th {\n",
              "        vertical-align: top;\n",
              "    }\n",
              "\n",
              "    .dataframe thead th {\n",
              "        text-align: right;\n",
              "    }\n",
              "</style>\n",
              "<table border=\"1\" class=\"dataframe\">\n",
              "  <thead>\n",
              "    <tr style=\"text-align: right;\">\n",
              "      <th></th>\n",
              "      <th>age</th>\n",
              "      <th>workclass</th>\n",
              "      <th>education</th>\n",
              "      <th>education-num</th>\n",
              "      <th>marital-status</th>\n",
              "      <th>occupation</th>\n",
              "      <th>relationship</th>\n",
              "      <th>race</th>\n",
              "      <th>sex</th>\n",
              "      <th>capital-gain</th>\n",
              "      <th>capital-loss</th>\n",
              "      <th>hours-per-week</th>\n",
              "      <th>native-country</th>\n",
              "      <th>income</th>\n",
              "    </tr>\n",
              "  </thead>\n",
              "  <tbody>\n",
              "    <tr>\n",
              "      <th>0</th>\n",
              "      <td>39</td>\n",
              "      <td>State-gov</td>\n",
              "      <td>Bachelors</td>\n",
              "      <td>13</td>\n",
              "      <td>Never-married</td>\n",
              "      <td>Adm-clerical</td>\n",
              "      <td>Not-in-family</td>\n",
              "      <td>White</td>\n",
              "      <td>Male</td>\n",
              "      <td>2174</td>\n",
              "      <td>0</td>\n",
              "      <td>40</td>\n",
              "      <td>United-States</td>\n",
              "      <td>&lt;=50K</td>\n",
              "    </tr>\n",
              "    <tr>\n",
              "      <th>1</th>\n",
              "      <td>50</td>\n",
              "      <td>Self-emp-not-inc</td>\n",
              "      <td>Bachelors</td>\n",
              "      <td>13</td>\n",
              "      <td>Married-civ-spouse</td>\n",
              "      <td>Exec-managerial</td>\n",
              "      <td>Husband</td>\n",
              "      <td>White</td>\n",
              "      <td>Male</td>\n",
              "      <td>0</td>\n",
              "      <td>0</td>\n",
              "      <td>13</td>\n",
              "      <td>United-States</td>\n",
              "      <td>&lt;=50K</td>\n",
              "    </tr>\n",
              "    <tr>\n",
              "      <th>2</th>\n",
              "      <td>38</td>\n",
              "      <td>Private</td>\n",
              "      <td>HS-grad</td>\n",
              "      <td>9</td>\n",
              "      <td>Divorced</td>\n",
              "      <td>Handlers-cleaners</td>\n",
              "      <td>Not-in-family</td>\n",
              "      <td>White</td>\n",
              "      <td>Male</td>\n",
              "      <td>0</td>\n",
              "      <td>0</td>\n",
              "      <td>40</td>\n",
              "      <td>United-States</td>\n",
              "      <td>&lt;=50K</td>\n",
              "    </tr>\n",
              "    <tr>\n",
              "      <th>3</th>\n",
              "      <td>53</td>\n",
              "      <td>Private</td>\n",
              "      <td>11th</td>\n",
              "      <td>7</td>\n",
              "      <td>Married-civ-spouse</td>\n",
              "      <td>Handlers-cleaners</td>\n",
              "      <td>Husband</td>\n",
              "      <td>Black</td>\n",
              "      <td>Male</td>\n",
              "      <td>0</td>\n",
              "      <td>0</td>\n",
              "      <td>40</td>\n",
              "      <td>United-States</td>\n",
              "      <td>&lt;=50K</td>\n",
              "    </tr>\n",
              "    <tr>\n",
              "      <th>4</th>\n",
              "      <td>28</td>\n",
              "      <td>Private</td>\n",
              "      <td>Bachelors</td>\n",
              "      <td>13</td>\n",
              "      <td>Married-civ-spouse</td>\n",
              "      <td>Prof-specialty</td>\n",
              "      <td>Wife</td>\n",
              "      <td>Black</td>\n",
              "      <td>Female</td>\n",
              "      <td>0</td>\n",
              "      <td>0</td>\n",
              "      <td>40</td>\n",
              "      <td>Cuba</td>\n",
              "      <td>&lt;=50K</td>\n",
              "    </tr>\n",
              "  </tbody>\n",
              "</table>\n",
              "</div>\n",
              "    <div class=\"colab-df-buttons\">\n",
              "\n",
              "  <div class=\"colab-df-container\">\n",
              "    <button class=\"colab-df-convert\" onclick=\"convertToInteractive('df-57c0cbe4-09b7-4d0f-a1f4-396f465cfb92')\"\n",
              "            title=\"Convert this dataframe to an interactive table.\"\n",
              "            style=\"display:none;\">\n",
              "\n",
              "  <svg xmlns=\"http://www.w3.org/2000/svg\" height=\"24px\" viewBox=\"0 -960 960 960\">\n",
              "    <path d=\"M120-120v-720h720v720H120Zm60-500h600v-160H180v160Zm220 220h160v-160H400v160Zm0 220h160v-160H400v160ZM180-400h160v-160H180v160Zm440 0h160v-160H620v160ZM180-180h160v-160H180v160Zm440 0h160v-160H620v160Z\"/>\n",
              "  </svg>\n",
              "    </button>\n",
              "\n",
              "  <style>\n",
              "    .colab-df-container {\n",
              "      display:flex;\n",
              "      gap: 12px;\n",
              "    }\n",
              "\n",
              "    .colab-df-convert {\n",
              "      background-color: #E8F0FE;\n",
              "      border: none;\n",
              "      border-radius: 50%;\n",
              "      cursor: pointer;\n",
              "      display: none;\n",
              "      fill: #1967D2;\n",
              "      height: 32px;\n",
              "      padding: 0 0 0 0;\n",
              "      width: 32px;\n",
              "    }\n",
              "\n",
              "    .colab-df-convert:hover {\n",
              "      background-color: #E2EBFA;\n",
              "      box-shadow: 0px 1px 2px rgba(60, 64, 67, 0.3), 0px 1px 3px 1px rgba(60, 64, 67, 0.15);\n",
              "      fill: #174EA6;\n",
              "    }\n",
              "\n",
              "    .colab-df-buttons div {\n",
              "      margin-bottom: 4px;\n",
              "    }\n",
              "\n",
              "    [theme=dark] .colab-df-convert {\n",
              "      background-color: #3B4455;\n",
              "      fill: #D2E3FC;\n",
              "    }\n",
              "\n",
              "    [theme=dark] .colab-df-convert:hover {\n",
              "      background-color: #434B5C;\n",
              "      box-shadow: 0px 1px 3px 1px rgba(0, 0, 0, 0.15);\n",
              "      filter: drop-shadow(0px 1px 2px rgba(0, 0, 0, 0.3));\n",
              "      fill: #FFFFFF;\n",
              "    }\n",
              "  </style>\n",
              "\n",
              "    <script>\n",
              "      const buttonEl =\n",
              "        document.querySelector('#df-57c0cbe4-09b7-4d0f-a1f4-396f465cfb92 button.colab-df-convert');\n",
              "      buttonEl.style.display =\n",
              "        google.colab.kernel.accessAllowed ? 'block' : 'none';\n",
              "\n",
              "      async function convertToInteractive(key) {\n",
              "        const element = document.querySelector('#df-57c0cbe4-09b7-4d0f-a1f4-396f465cfb92');\n",
              "        const dataTable =\n",
              "          await google.colab.kernel.invokeFunction('convertToInteractive',\n",
              "                                                    [key], {});\n",
              "        if (!dataTable) return;\n",
              "\n",
              "        const docLinkHtml = 'Like what you see? Visit the ' +\n",
              "          '<a target=\"_blank\" href=https://colab.research.google.com/notebooks/data_table.ipynb>data table notebook</a>'\n",
              "          + ' to learn more about interactive tables.';\n",
              "        element.innerHTML = '';\n",
              "        dataTable['output_type'] = 'display_data';\n",
              "        await google.colab.output.renderOutput(dataTable, element);\n",
              "        const docLink = document.createElement('div');\n",
              "        docLink.innerHTML = docLinkHtml;\n",
              "        element.appendChild(docLink);\n",
              "      }\n",
              "    </script>\n",
              "  </div>\n",
              "\n",
              "\n",
              "    <div id=\"df-d089546d-b95b-44f5-b628-cd272f4e2c73\">\n",
              "      <button class=\"colab-df-quickchart\" onclick=\"quickchart('df-d089546d-b95b-44f5-b628-cd272f4e2c73')\"\n",
              "                title=\"Suggest charts\"\n",
              "                style=\"display:none;\">\n",
              "\n",
              "<svg xmlns=\"http://www.w3.org/2000/svg\" height=\"24px\"viewBox=\"0 0 24 24\"\n",
              "     width=\"24px\">\n",
              "    <g>\n",
              "        <path d=\"M19 3H5c-1.1 0-2 .9-2 2v14c0 1.1.9 2 2 2h14c1.1 0 2-.9 2-2V5c0-1.1-.9-2-2-2zM9 17H7v-7h2v7zm4 0h-2V7h2v10zm4 0h-2v-4h2v4z\"/>\n",
              "    </g>\n",
              "</svg>\n",
              "      </button>\n",
              "\n",
              "<style>\n",
              "  .colab-df-quickchart {\n",
              "      --bg-color: #E8F0FE;\n",
              "      --fill-color: #1967D2;\n",
              "      --hover-bg-color: #E2EBFA;\n",
              "      --hover-fill-color: #174EA6;\n",
              "      --disabled-fill-color: #AAA;\n",
              "      --disabled-bg-color: #DDD;\n",
              "  }\n",
              "\n",
              "  [theme=dark] .colab-df-quickchart {\n",
              "      --bg-color: #3B4455;\n",
              "      --fill-color: #D2E3FC;\n",
              "      --hover-bg-color: #434B5C;\n",
              "      --hover-fill-color: #FFFFFF;\n",
              "      --disabled-bg-color: #3B4455;\n",
              "      --disabled-fill-color: #666;\n",
              "  }\n",
              "\n",
              "  .colab-df-quickchart {\n",
              "    background-color: var(--bg-color);\n",
              "    border: none;\n",
              "    border-radius: 50%;\n",
              "    cursor: pointer;\n",
              "    display: none;\n",
              "    fill: var(--fill-color);\n",
              "    height: 32px;\n",
              "    padding: 0;\n",
              "    width: 32px;\n",
              "  }\n",
              "\n",
              "  .colab-df-quickchart:hover {\n",
              "    background-color: var(--hover-bg-color);\n",
              "    box-shadow: 0 1px 2px rgba(60, 64, 67, 0.3), 0 1px 3px 1px rgba(60, 64, 67, 0.15);\n",
              "    fill: var(--button-hover-fill-color);\n",
              "  }\n",
              "\n",
              "  .colab-df-quickchart-complete:disabled,\n",
              "  .colab-df-quickchart-complete:disabled:hover {\n",
              "    background-color: var(--disabled-bg-color);\n",
              "    fill: var(--disabled-fill-color);\n",
              "    box-shadow: none;\n",
              "  }\n",
              "\n",
              "  .colab-df-spinner {\n",
              "    border: 2px solid var(--fill-color);\n",
              "    border-color: transparent;\n",
              "    border-bottom-color: var(--fill-color);\n",
              "    animation:\n",
              "      spin 1s steps(1) infinite;\n",
              "  }\n",
              "\n",
              "  @keyframes spin {\n",
              "    0% {\n",
              "      border-color: transparent;\n",
              "      border-bottom-color: var(--fill-color);\n",
              "      border-left-color: var(--fill-color);\n",
              "    }\n",
              "    20% {\n",
              "      border-color: transparent;\n",
              "      border-left-color: var(--fill-color);\n",
              "      border-top-color: var(--fill-color);\n",
              "    }\n",
              "    30% {\n",
              "      border-color: transparent;\n",
              "      border-left-color: var(--fill-color);\n",
              "      border-top-color: var(--fill-color);\n",
              "      border-right-color: var(--fill-color);\n",
              "    }\n",
              "    40% {\n",
              "      border-color: transparent;\n",
              "      border-right-color: var(--fill-color);\n",
              "      border-top-color: var(--fill-color);\n",
              "    }\n",
              "    60% {\n",
              "      border-color: transparent;\n",
              "      border-right-color: var(--fill-color);\n",
              "    }\n",
              "    80% {\n",
              "      border-color: transparent;\n",
              "      border-right-color: var(--fill-color);\n",
              "      border-bottom-color: var(--fill-color);\n",
              "    }\n",
              "    90% {\n",
              "      border-color: transparent;\n",
              "      border-bottom-color: var(--fill-color);\n",
              "    }\n",
              "  }\n",
              "</style>\n",
              "\n",
              "      <script>\n",
              "        async function quickchart(key) {\n",
              "          const quickchartButtonEl =\n",
              "            document.querySelector('#' + key + ' button');\n",
              "          quickchartButtonEl.disabled = true;  // To prevent multiple clicks.\n",
              "          quickchartButtonEl.classList.add('colab-df-spinner');\n",
              "          try {\n",
              "            const charts = await google.colab.kernel.invokeFunction(\n",
              "                'suggestCharts', [key], {});\n",
              "          } catch (error) {\n",
              "            console.error('Error during call to suggestCharts:', error);\n",
              "          }\n",
              "          quickchartButtonEl.classList.remove('colab-df-spinner');\n",
              "          quickchartButtonEl.classList.add('colab-df-quickchart-complete');\n",
              "        }\n",
              "        (() => {\n",
              "          let quickchartButtonEl =\n",
              "            document.querySelector('#df-d089546d-b95b-44f5-b628-cd272f4e2c73 button');\n",
              "          quickchartButtonEl.style.display =\n",
              "            google.colab.kernel.accessAllowed ? 'block' : 'none';\n",
              "        })();\n",
              "      </script>\n",
              "    </div>\n",
              "\n",
              "    </div>\n",
              "  </div>\n"
            ],
            "application/vnd.google.colaboratory.intrinsic+json": {
              "type": "dataframe",
              "summary": "{\n  \"name\": \"display(adult_df\",\n  \"rows\": 5,\n  \"fields\": [\n    {\n      \"column\": \"age\",\n      \"properties\": {\n        \"dtype\": \"number\",\n        \"std\": 10,\n        \"min\": 28,\n        \"max\": 53,\n        \"num_unique_values\": 5,\n        \"samples\": [\n          50,\n          28,\n          38\n        ],\n        \"semantic_type\": \"\",\n        \"description\": \"\"\n      }\n    },\n    {\n      \"column\": \"workclass\",\n      \"properties\": {\n        \"dtype\": \"string\",\n        \"num_unique_values\": 3,\n        \"samples\": [\n          \" State-gov\",\n          \" Self-emp-not-inc\",\n          \" Private\"\n        ],\n        \"semantic_type\": \"\",\n        \"description\": \"\"\n      }\n    },\n    {\n      \"column\": \"education\",\n      \"properties\": {\n        \"dtype\": \"string\",\n        \"num_unique_values\": 3,\n        \"samples\": [\n          \" Bachelors\",\n          \" HS-grad\",\n          \" 11th\"\n        ],\n        \"semantic_type\": \"\",\n        \"description\": \"\"\n      }\n    },\n    {\n      \"column\": \"education-num\",\n      \"properties\": {\n        \"dtype\": \"number\",\n        \"std\": 2,\n        \"min\": 7,\n        \"max\": 13,\n        \"num_unique_values\": 3,\n        \"samples\": [\n          13,\n          9,\n          7\n        ],\n        \"semantic_type\": \"\",\n        \"description\": \"\"\n      }\n    },\n    {\n      \"column\": \"marital-status\",\n      \"properties\": {\n        \"dtype\": \"string\",\n        \"num_unique_values\": 3,\n        \"samples\": [\n          \" Never-married\",\n          \" Married-civ-spouse\",\n          \" Divorced\"\n        ],\n        \"semantic_type\": \"\",\n        \"description\": \"\"\n      }\n    },\n    {\n      \"column\": \"occupation\",\n      \"properties\": {\n        \"dtype\": \"string\",\n        \"num_unique_values\": 4,\n        \"samples\": [\n          \" Exec-managerial\",\n          \" Prof-specialty\",\n          \" Adm-clerical\"\n        ],\n        \"semantic_type\": \"\",\n        \"description\": \"\"\n      }\n    },\n    {\n      \"column\": \"relationship\",\n      \"properties\": {\n        \"dtype\": \"string\",\n        \"num_unique_values\": 3,\n        \"samples\": [\n          \" Not-in-family\",\n          \" Husband\",\n          \" Wife\"\n        ],\n        \"semantic_type\": \"\",\n        \"description\": \"\"\n      }\n    },\n    {\n      \"column\": \"race\",\n      \"properties\": {\n        \"dtype\": \"category\",\n        \"num_unique_values\": 2,\n        \"samples\": [\n          \" Black\",\n          \" White\"\n        ],\n        \"semantic_type\": \"\",\n        \"description\": \"\"\n      }\n    },\n    {\n      \"column\": \"sex\",\n      \"properties\": {\n        \"dtype\": \"category\",\n        \"num_unique_values\": 2,\n        \"samples\": [\n          \" Female\",\n          \" Male\"\n        ],\n        \"semantic_type\": \"\",\n        \"description\": \"\"\n      }\n    },\n    {\n      \"column\": \"capital-gain\",\n      \"properties\": {\n        \"dtype\": \"number\",\n        \"std\": 972,\n        \"min\": 0,\n        \"max\": 2174,\n        \"num_unique_values\": 2,\n        \"samples\": [\n          0,\n          2174\n        ],\n        \"semantic_type\": \"\",\n        \"description\": \"\"\n      }\n    },\n    {\n      \"column\": \"capital-loss\",\n      \"properties\": {\n        \"dtype\": \"number\",\n        \"std\": 0,\n        \"min\": 0,\n        \"max\": 0,\n        \"num_unique_values\": 1,\n        \"samples\": [\n          0\n        ],\n        \"semantic_type\": \"\",\n        \"description\": \"\"\n      }\n    },\n    {\n      \"column\": \"hours-per-week\",\n      \"properties\": {\n        \"dtype\": \"number\",\n        \"std\": 12,\n        \"min\": 13,\n        \"max\": 40,\n        \"num_unique_values\": 2,\n        \"samples\": [\n          13\n        ],\n        \"semantic_type\": \"\",\n        \"description\": \"\"\n      }\n    },\n    {\n      \"column\": \"native-country\",\n      \"properties\": {\n        \"dtype\": \"category\",\n        \"num_unique_values\": 2,\n        \"samples\": [\n          \" Cuba\"\n        ],\n        \"semantic_type\": \"\",\n        \"description\": \"\"\n      }\n    },\n    {\n      \"column\": \"income\",\n      \"properties\": {\n        \"dtype\": \"category\",\n        \"num_unique_values\": 1,\n        \"samples\": [\n          \" <=50K\"\n        ],\n        \"semantic_type\": \"\",\n        \"description\": \"\"\n      }\n    }\n  ]\n}"
            }
          },
          "metadata": {}
        }
      ]
    },
    {
      "cell_type": "code",
      "metadata": {
        "colab": {
          "base_uri": "https://localhost:8080/",
          "height": 523
        },
        "id": "ac1ab9a7",
        "outputId": "36357661-5e43-445c-95ae-1ed3686b05fc"
      },
      "source": [
        "# Check for missing values and sum them up for each column\n",
        "display(adult_df.isnull().sum())"
      ],
      "execution_count": null,
      "outputs": [
        {
          "output_type": "display_data",
          "data": {
            "text/plain": [
              "age               0\n",
              "workclass         0\n",
              "education         0\n",
              "education-num     0\n",
              "marital-status    0\n",
              "occupation        0\n",
              "relationship      0\n",
              "race              0\n",
              "sex               0\n",
              "capital-gain      0\n",
              "capital-loss      0\n",
              "hours-per-week    0\n",
              "native-country    0\n",
              "income            0\n",
              "dtype: int64"
            ],
            "text/html": [
              "<div>\n",
              "<style scoped>\n",
              "    .dataframe tbody tr th:only-of-type {\n",
              "        vertical-align: middle;\n",
              "    }\n",
              "\n",
              "    .dataframe tbody tr th {\n",
              "        vertical-align: top;\n",
              "    }\n",
              "\n",
              "    .dataframe thead th {\n",
              "        text-align: right;\n",
              "    }\n",
              "</style>\n",
              "<table border=\"1\" class=\"dataframe\">\n",
              "  <thead>\n",
              "    <tr style=\"text-align: right;\">\n",
              "      <th></th>\n",
              "      <th>0</th>\n",
              "    </tr>\n",
              "  </thead>\n",
              "  <tbody>\n",
              "    <tr>\n",
              "      <th>age</th>\n",
              "      <td>0</td>\n",
              "    </tr>\n",
              "    <tr>\n",
              "      <th>workclass</th>\n",
              "      <td>0</td>\n",
              "    </tr>\n",
              "    <tr>\n",
              "      <th>education</th>\n",
              "      <td>0</td>\n",
              "    </tr>\n",
              "    <tr>\n",
              "      <th>education-num</th>\n",
              "      <td>0</td>\n",
              "    </tr>\n",
              "    <tr>\n",
              "      <th>marital-status</th>\n",
              "      <td>0</td>\n",
              "    </tr>\n",
              "    <tr>\n",
              "      <th>occupation</th>\n",
              "      <td>0</td>\n",
              "    </tr>\n",
              "    <tr>\n",
              "      <th>relationship</th>\n",
              "      <td>0</td>\n",
              "    </tr>\n",
              "    <tr>\n",
              "      <th>race</th>\n",
              "      <td>0</td>\n",
              "    </tr>\n",
              "    <tr>\n",
              "      <th>sex</th>\n",
              "      <td>0</td>\n",
              "    </tr>\n",
              "    <tr>\n",
              "      <th>capital-gain</th>\n",
              "      <td>0</td>\n",
              "    </tr>\n",
              "    <tr>\n",
              "      <th>capital-loss</th>\n",
              "      <td>0</td>\n",
              "    </tr>\n",
              "    <tr>\n",
              "      <th>hours-per-week</th>\n",
              "      <td>0</td>\n",
              "    </tr>\n",
              "    <tr>\n",
              "      <th>native-country</th>\n",
              "      <td>0</td>\n",
              "    </tr>\n",
              "    <tr>\n",
              "      <th>income</th>\n",
              "      <td>0</td>\n",
              "    </tr>\n",
              "  </tbody>\n",
              "</table>\n",
              "</div><br><label><b>dtype:</b> int64</label>"
            ]
          },
          "metadata": {}
        }
      ]
    },
    {
      "cell_type": "markdown",
      "source": [
        "### Managing Placeholders in categorical columns"
      ],
      "metadata": {
        "id": "jiAARKnnfSz9"
      }
    },
    {
      "cell_type": "code",
      "metadata": {
        "colab": {
          "base_uri": "https://localhost:8080/"
        },
        "id": "81ba86b9",
        "outputId": "4167410f-00a3-41e5-dbe2-cc50e6e4fb8d"
      },
      "source": [
        "# Identify categorical columns (excluding numerical and the target variable 'income')\n",
        "categorical_cols = adult_df.select_dtypes(include=['object']).columns.tolist()\n",
        "# 'income' is the target variable, so we might want to exclude it for now\n",
        "if 'income' in categorical_cols:\n",
        "    categorical_cols.remove('income')\n",
        "\n",
        "\n",
        "# Check unique values for each categorical column\n",
        "for col in categorical_cols:\n",
        "    print(f\"Unique values for '{col}':\")\n",
        "    print(adult_df[col].unique())\n",
        "    print(\"-\" * 30)"
      ],
      "execution_count": null,
      "outputs": [
        {
          "output_type": "stream",
          "name": "stdout",
          "text": [
            "Unique values for 'workclass':\n",
            "[' State-gov' ' Self-emp-not-inc' ' Private' ' Federal-gov' ' Local-gov'\n",
            " ' ?' ' Self-emp-inc' ' Without-pay' ' Never-worked']\n",
            "------------------------------\n",
            "Unique values for 'education':\n",
            "[' Bachelors' ' HS-grad' ' 11th' ' Masters' ' 9th' ' Some-college'\n",
            " ' Assoc-acdm' ' Assoc-voc' ' 7th-8th' ' Doctorate' ' Prof-school'\n",
            " ' 5th-6th' ' 10th' ' 1st-4th' ' Preschool' ' 12th']\n",
            "------------------------------\n",
            "Unique values for 'marital-status':\n",
            "[' Never-married' ' Married-civ-spouse' ' Divorced'\n",
            " ' Married-spouse-absent' ' Separated' ' Married-AF-spouse' ' Widowed']\n",
            "------------------------------\n",
            "Unique values for 'occupation':\n",
            "[' Adm-clerical' ' Exec-managerial' ' Handlers-cleaners' ' Prof-specialty'\n",
            " ' Other-service' ' Sales' ' Craft-repair' ' Transport-moving'\n",
            " ' Farming-fishing' ' Machine-op-inspct' ' Tech-support' ' ?'\n",
            " ' Protective-serv' ' Armed-Forces' ' Priv-house-serv']\n",
            "------------------------------\n",
            "Unique values for 'relationship':\n",
            "[' Not-in-family' ' Husband' ' Wife' ' Own-child' ' Unmarried'\n",
            " ' Other-relative']\n",
            "------------------------------\n",
            "Unique values for 'race':\n",
            "[' White' ' Black' ' Asian-Pac-Islander' ' Amer-Indian-Eskimo' ' Other']\n",
            "------------------------------\n",
            "Unique values for 'sex':\n",
            "[' Male' ' Female']\n",
            "------------------------------\n",
            "Unique values for 'native-country':\n",
            "[' United-States' ' Cuba' ' Jamaica' ' India' ' ?' ' Mexico' ' South'\n",
            " ' Puerto-Rico' ' Honduras' ' England' ' Canada' ' Germany' ' Iran'\n",
            " ' Philippines' ' Italy' ' Poland' ' Columbia' ' Cambodia' ' Thailand'\n",
            " ' Ecuador' ' Laos' ' Taiwan' ' Haiti' ' Portugal' ' Dominican-Republic'\n",
            " ' El-Salvador' ' France' ' Guatemala' ' China' ' Japan' ' Yugoslavia'\n",
            " ' Peru' ' Outlying-US(Guam-USVI-etc)' ' Scotland' ' Trinadad&Tobago'\n",
            " ' Greece' ' Nicaragua' ' Vietnam' ' Hong' ' Ireland' ' Hungary'\n",
            " ' Holand-Netherlands']\n",
            "------------------------------\n"
          ]
        }
      ]
    },
    {
      "cell_type": "code",
      "metadata": {
        "colab": {
          "base_uri": "https://localhost:8080/"
        },
        "id": "daca6e77",
        "outputId": "5cdb8d0a-2369-478d-b9c8-32aff1975056"
      },
      "source": [
        "# Count the number of '?' in the specified columns\n",
        "placeholder = ' ?'\n",
        "workclass_placeholder_count = adult_df[adult_df['workclass'] == placeholder].shape[0]\n",
        "occupation_placeholder_count = adult_df[adult_df['occupation'] == placeholder].shape[0]\n",
        "native_country_placeholder_count = adult_df[adult_df['native-country'] == placeholder].shape[0]\n",
        "\n",
        "print(f\"Number of '?' in 'workclass': {workclass_placeholder_count}\")\n",
        "print(f\"Number of '?' in 'occupation': {occupation_placeholder_count}\")\n",
        "print(f\"Number of '?' in 'native-country': {native_country_placeholder_count}\")"
      ],
      "execution_count": null,
      "outputs": [
        {
          "output_type": "stream",
          "name": "stdout",
          "text": [
            "Number of '?' in 'workclass': 1836\n",
            "Number of '?' in 'occupation': 1843\n",
            "Number of '?' in 'native-country': 583\n"
          ]
        }
      ]
    },
    {
      "cell_type": "code",
      "metadata": {
        "colab": {
          "base_uri": "https://localhost:8080/"
        },
        "id": "ccc426d3",
        "outputId": "6a8ac826-2325-4e38-a644-39e58428fa7b"
      },
      "source": [
        "# Replace ' ?' with 'Unspecified' in the specified columns\n",
        "columns_to_replace = ['workclass', 'occupation', 'native-country']\n",
        "adult_df[columns_to_replace] = adult_df[columns_to_replace].replace(' ?', 'Unspecified')\n",
        "\n",
        "# Verify the replacement by checking unique values in one of the columns\n",
        "print(\"Unique values for 'workclass' after replacement:\")\n",
        "print(adult_df['workclass'].unique())"
      ],
      "execution_count": null,
      "outputs": [
        {
          "output_type": "stream",
          "name": "stdout",
          "text": [
            "Unique values for 'workclass' after replacement:\n",
            "[' State-gov' ' Self-emp-not-inc' ' Private' ' Federal-gov' ' Local-gov'\n",
            " 'Unspecified' ' Self-emp-inc' ' Without-pay' ' Never-worked']\n"
          ]
        }
      ]
    },
    {
      "cell_type": "markdown",
      "source": [
        "### Visualize the distribution of your sensitive features, like race and gender"
      ],
      "metadata": {
        "id": "99CBveD8iZxS"
      }
    },
    {
      "cell_type": "code",
      "metadata": {
        "colab": {
          "base_uri": "https://localhost:8080/",
          "height": 493
        },
        "id": "4bb5da34",
        "outputId": "f69d0c16-5cab-41a7-e4f8-6eb3cba29e2b"
      },
      "source": [
        "import matplotlib.pyplot as plt\n",
        "import seaborn as sns\n",
        "\n",
        "# Set the style for the plots\n",
        "sns.set_style(\"whitegrid\")\n",
        "\n",
        "# Create subplots for race and sex distributions\n",
        "fig, axes = plt.subplots(1, 2, figsize=(12, 5))\n",
        "\n",
        "# Plot distribution of 'race'\n",
        "sns.countplot(data=adult_df, y='race', ax=axes[0], order=adult_df['race'].value_counts().index, palette='viridis', hue='race', legend=False)\n",
        "axes[0].set_title('Distribution of Race')\n",
        "axes[0].set_xlabel('Count')\n",
        "axes[0].set_ylabel('Race')\n",
        "\n",
        "# Plot distribution of 'sex'\n",
        "sns.countplot(data=adult_df, y='sex', ax=axes[1], order=adult_df['sex'].value_counts().index, palette='viridis', hue='sex', legend=False)\n",
        "axes[1].set_title('Distribution of Sex')\n",
        "axes[1].set_xlabel('Count')\n",
        "axes[1].set_ylabel('Sex')\n",
        "\n",
        "plt.tight_layout()\n",
        "plt.show()"
      ],
      "execution_count": null,
      "outputs": [
        {
          "output_type": "display_data",
          "data": {
            "text/plain": [
              "<Figure size 1200x500 with 2 Axes>"
            ],
            "image/png": "[encoded data removed]"
          },
          "metadata": {}
        }
      ]
    },
    {
      "cell_type": "markdown",
      "source": [
        "# Prepare the Data for Modeling\n"
      ],
      "metadata": {
        "id": "u1mRA4iEpLUP"
      }
    },
    {
      "cell_type": "code",
      "source": [
        "# Identify categorical columns\n",
        "categorical_cols = adult_df.select_dtypes(include='object').columns.tolist()\n",
        "\n",
        "# Print the list of categorical columns\n",
        "print(\"Categorical columns:\")\n",
        "print(categorical_cols)"
      ],
      "metadata": {
        "colab": {
          "base_uri": "https://localhost:8080/"
        },
        "id": "QBHi1S7hpNpi",
        "outputId": "6d3b31b5-f760-4b40-c16b-18e003b96b0a"
      },
      "execution_count": null,
      "outputs": [
        {
          "output_type": "stream",
          "name": "stdout",
          "text": [
            "Categorical columns:\n",
            "['workclass', 'education', 'marital-status', 'occupation', 'relationship', 'race', 'sex', 'native-country', 'income']\n"
          ]
        }
      ]
    },
    {
      "cell_type": "code",
      "metadata": {
        "colab": {
          "base_uri": "https://localhost:8080/"
        },
        "id": "7786103d",
        "outputId": "67872bfe-2575-4188-cf60-3f77e39f684c"
      },
      "source": [
        "# Convert the target variable 'income' to numerical values\n",
        "# First, strip whitespace from the 'income' column\n",
        "adult_df['income'] = adult_df['income'].str.strip().map({'>50K': 1, '<=50K': 0})\n",
        "\n",
        "# Display the value counts for the converted 'income' column to verify\n",
        "print(\"Value counts for the numerical 'income' column:\")\n",
        "print(adult_df['income'].value_counts())"
      ],
      "execution_count": null,
      "outputs": [
        {
          "output_type": "stream",
          "name": "stdout",
          "text": [
            "Value counts for the numerical 'income' column:\n",
            "income\n",
            "0    24720\n",
            "1     7841\n",
            "Name: count, dtype: int64\n"
          ]
        }
      ]
    },
    {
      "cell_type": "markdown",
      "source": [
        "### Multicollinearity vs. Fairness Analysis\n",
        "In our feature engineering process, we made a deliberate choice to keep both sex_Male and sex_Female columns, even though this introduces multicollinearity.\n",
        "\n",
        "Multicollinearity occurs when two or more predictor variables in a model are highly correlated, which can sometimes make it difficult for linear models to determine the individual impact of each feature. A standard practice to avoid this is to use the drop_first=True parameter during one-hot encoding, which drops one of the two binary columns.\n",
        "\n",
        "However, our primary goal is not just to build a mathematically clean model, but to build a responsible, fair model. By keeping both columns, we create a clear and explicit way to \"slice\" our data and directly compare the model's performance on both the Male and Female subgroups. This allows us to easily measure any performance disparities and quantify the bias that exists in the model, which is a critical part of our project's narrative and ethical objective."
      ],
      "metadata": {
        "id": "c_S2uxXbqr6U"
      }
    },
    {
      "cell_type": "code",
      "metadata": {
        "colab": {
          "base_uri": "https://localhost:8080/"
        },
        "id": "7b33f28d",
        "outputId": "5af47edb-fcb0-4930-8a69-a1657218382d"
      },
      "source": [
        "# Identify categorical columns excluding the target variable 'income'\n",
        "categorical_cols = adult_df.select_dtypes(include='object').columns.tolist()\n",
        "\n",
        "# Apply one-hot encoding to the categorical columns\n",
        "adult_df_encoded = pd.get_dummies(adult_df, columns=categorical_cols)\n",
        "\n",
        "# Display the first 5 rows of the encoded DataFrame\n",
        "print(adult_df_encoded.head())"
      ],
      "execution_count": null,
      "outputs": [
        {
          "output_type": "stream",
          "name": "stdout",
          "text": [
            "   age  education-num  capital-gain  capital-loss  hours-per-week  income  \\\n",
            "0   39             13          2174             0              40       0   \n",
            "1   50             13             0             0              13       0   \n",
            "2   38              9             0             0              40       0   \n",
            "3   53              7             0             0              40       0   \n",
            "4   28             13             0             0              40       0   \n",
            "\n",
            "   workclass_ Federal-gov  workclass_ Local-gov  workclass_ Never-worked  \\\n",
            "0                   False                 False                    False   \n",
            "1                   False                 False                    False   \n",
            "2                   False                 False                    False   \n",
            "3                   False                 False                    False   \n",
            "4                   False                 False                    False   \n",
            "\n",
            "   workclass_ Private  ...  native-country_ Puerto-Rico  \\\n",
            "0               False  ...                        False   \n",
            "1               False  ...                        False   \n",
            "2                True  ...                        False   \n",
            "3                True  ...                        False   \n",
            "4                True  ...                        False   \n",
            "\n",
            "   native-country_ Scotland  native-country_ South  native-country_ Taiwan  \\\n",
            "0                     False                  False                   False   \n",
            "1                     False                  False                   False   \n",
            "2                     False                  False                   False   \n",
            "3                     False                  False                   False   \n",
            "4                     False                  False                   False   \n",
            "\n",
            "   native-country_ Thailand  native-country_ Trinadad&Tobago  \\\n",
            "0                     False                            False   \n",
            "1                     False                            False   \n",
            "2                     False                            False   \n",
            "3                     False                            False   \n",
            "4                     False                            False   \n",
            "\n",
            "   native-country_ United-States  native-country_ Vietnam  \\\n",
            "0                           True                    False   \n",
            "1                           True                    False   \n",
            "2                           True                    False   \n",
            "3                           True                    False   \n",
            "4                          False                    False   \n",
            "\n",
            "   native-country_ Yugoslavia  native-country_Unspecified  \n",
            "0                       False                       False  \n",
            "1                       False                       False  \n",
            "2                       False                       False  \n",
            "3                       False                       False  \n",
            "4                       False                       False  \n",
            "\n",
            "[5 rows x 108 columns]\n"
          ]
        }
      ]
    },
    {
      "cell_type": "code",
      "metadata": {
        "colab": {
          "base_uri": "https://localhost:8080/"
        },
        "id": "0cea8619",
        "outputId": "c2c21065-9571-458d-c262-b3ee0cdca29d"
      },
      "source": [
        "from sklearn.model_selection import train_test_split\n",
        "\n",
        "# Define features (X) and target (y)\n",
        "X = adult_df_encoded.drop('income', axis=1)\n",
        "y = adult_df_encoded['income']\n",
        "\n",
        "# Split the data into training and testing sets\n",
        "X_train, X_test, y_train, y_test = train_test_split(X, y, test_size=0.2, random_state=42)\n",
        "\n",
        "print(\"Training set shape (X_train, y_train):\", X_train.shape, y_train.shape)\n",
        "print(\"Testing set shape (X_test, y_test):\", X_test.shape, y_test.shape)"
      ],
      "execution_count": null,
      "outputs": [
        {
          "output_type": "stream",
          "name": "stdout",
          "text": [
            "Training set shape (X_train, y_train): (26048, 107) (26048,)\n",
            "Testing set shape (X_test, y_test): (6513, 107) (6513,)\n"
          ]
        }
      ]
    },
    {
      "cell_type": "markdown",
      "metadata": {
        "id": "5fae008c"
      },
      "source": [
        "# Baseline Model: Logistic Regression\n",
        "A baseline model is a simple, straightforward model that serves as a benchmark for all your future, more complex models. Its purpose isn't to be the best, but to provide a starting point against which you can measure the impact of more advanced techniques"
      ]
    },
    {
      "cell_type": "code",
      "metadata": {
        "colab": {
          "base_uri": "https://localhost:8080/"
        },
        "id": "19ac68b2",
        "outputId": "eb9bcc25-2b0c-4e44-864b-84ad5d3691b9"
      },
      "source": [
        "from sklearn.linear_model import LogisticRegression\n",
        "\n",
        "# Initialize and train the Logistic Regression model\n",
        "baseline_model = LogisticRegression(random_state=42, max_iter=5000)\n",
        "baseline_model.fit(X_train, y_train)\n",
        "\n",
        "print(\"Baseline Logistic Regression model trained successfully.\")"
      ],
      "execution_count": null,
      "outputs": [
        {
          "output_type": "stream",
          "name": "stdout",
          "text": [
            "Baseline Logistic Regression model trained successfully.\n"
          ]
        },
        {
          "output_type": "stream",
          "name": "stderr",
          "text": [
            "/usr/local/lib/python3.12/dist-packages/sklearn/linear_model/_logistic.py:465: ConvergenceWarning: lbfgs failed to converge (status=1):\n",
            "STOP: TOTAL NO. OF ITERATIONS REACHED LIMIT.\n",
            "\n",
            "Increase the number of iterations (max_iter) or scale the data as shown in:\n",
            "    https://scikit-learn.org/stable/modules/preprocessing.html\n",
            "Please also refer to the documentation for alternative solver options:\n",
            "    https://scikit-learn.org/stable/modules/linear_model.html#logistic-regression\n",
            "  n_iter_i = _check_optimize_result(\n"
          ]
        }
      ]
    },
    {
      "cell_type": "markdown",
      "source": [
        "Even after increasing max_iter from 1000 to 5000, the model is not converging. One common reason, especially with algorithms like Logistic Regression that use gradient descent, is that the features are not on similar scales. When features have very different ranges, the optimization process can become unstable and struggle to find the minimum of the cost function."
      ],
      "metadata": {
        "id": "8SELD2CED6zS"
      }
    },
    {
      "cell_type": "markdown",
      "metadata": {
        "id": "9ae84df3"
      },
      "source": [
        "### Scaling Numerical Features"
      ]
    },
    {
      "cell_type": "code",
      "metadata": {
        "colab": {
          "base_uri": "https://localhost:8080/"
        },
        "id": "92c92f8b",
        "outputId": "65ae6459-893f-4e05-99f9-18a2ba58fe6b"
      },
      "source": [
        "from sklearn.preprocessing import StandardScaler\n",
        "\n",
        "# Identify numerical columns\n",
        "numerical_cols = X_train.select_dtypes(include=['int64', 'float64']).columns\n",
        "\n",
        "# Initialize the StandardScaler\n",
        "scaler = StandardScaler()\n",
        "\n",
        "# Fit the scaler on the training data and transform both training and testing data\n",
        "X_train_scaled = scaler.fit_transform(X_train[numerical_cols])\n",
        "X_test_scaled = scaler.transform(X_test[numerical_cols])\n",
        "\n",
        "# Convert the scaled arrays back to DataFrames, preserving column names and index\n",
        "X_train_scaled_df = pd.DataFrame(X_train_scaled, columns=numerical_cols, index=X_train.index)\n",
        "X_test_scaled_df = pd.DataFrame(X_test_scaled, columns=numerical_cols, index=X_test.index)\n",
        "\n",
        "# Replace the original numerical columns with the scaled ones in the dataframes\n",
        "X_train[numerical_cols] = X_train_scaled_df\n",
        "X_test[numerical_cols] = X_test_scaled_df\n",
        "\n",
        "print(\"Numerical features scaled successfully.\")"
      ],
      "execution_count": null,
      "outputs": [
        {
          "output_type": "stream",
          "name": "stdout",
          "text": [
            "Numerical features scaled successfully.\n"
          ]
        }
      ]
    },
    {
      "cell_type": "markdown",
      "metadata": {
        "id": "205d9afe"
      },
      "source": [
        "### Retrain Baseline Model with Scaled Data"
      ]
    },
    {
      "cell_type": "code",
      "metadata": {
        "colab": {
          "base_uri": "https://localhost:8080/"
        },
        "id": "9932701d",
        "outputId": "c3e54322-1768-4b59-8e7d-cbe6d396bdca"
      },
      "source": [
        "from sklearn.linear_model import LogisticRegression\n",
        "\n",
        "# Initialize and train the Logistic Regression model with scaled data\n",
        "baseline_model_scaled = LogisticRegression(random_state=42, max_iter=5000)\n",
        "baseline_model_scaled.fit(X_train, y_train)\n",
        "\n",
        "print(\"Baseline Logistic Regression model trained successfully on scaled data.\")"
      ],
      "execution_count": null,
      "outputs": [
        {
          "output_type": "stream",
          "name": "stdout",
          "text": [
            "Baseline Logistic Regression model trained successfully on scaled data.\n"
          ]
        }
      ]
    },
    {
      "cell_type": "code",
      "source": [
        "from sklearn.metrics import accuracy_score, precision_score, recall_score, f1_score, confusion_matrix, classification_report\n",
        "\n",
        "# Make predictions on the test data\n",
        "y_pred = baseline_model_scaled.predict(X_test)\n",
        "\n",
        "# Calculate evaluation metrics\n",
        "accuracy = accuracy_score(y_test, y_pred)\n",
        "precision = precision_score(y_test, y_pred)\n",
        "recall = recall_score(y_test, y_pred)\n",
        "f1 = f1_score(y_test, y_pred)\n",
        "conf_matrix = confusion_matrix(y_test, y_pred)\n",
        "class_report = classification_report(y_test, y_pred)\n",
        "\n",
        "# Display the metrics\n",
        "print(f\"Accuracy: {accuracy:.4f}\")\n",
        "print(f\"Precision: {precision:.4f}\")\n",
        "print(f\"Recall: {recall:.4f}\")\n",
        "print(f\"F1-Score: {f1:.4f}\")\n",
        "\n",
        "print(\"\\nConfusion Matrix:\")\n",
        "display(conf_matrix)\n",
        "\n",
        "print(\"\\nClassification Report:\")\n",
        "print(class_report)"
      ],
      "metadata": {
        "colab": {
          "base_uri": "https://localhost:8080/",
          "height": 347
        },
        "id": "Jz7HZSohEtBA",
        "outputId": "0df47b44-25fa-40c2-8b49-fad14c24b702"
      },
      "execution_count": null,
      "outputs": [
        {
          "output_type": "stream",
          "name": "stdout",
          "text": [
            "Accuracy: 0.8584\n",
            "Precision: 0.7529\n",
            "Recall: 0.6149\n",
            "F1-Score: 0.6769\n",
            "\n",
            "Confusion Matrix:\n"
          ]
        },
        {
          "output_type": "display_data",
          "data": {
            "text/plain": [
              "array([[4625,  317],\n",
              "       [ 605,  966]])"
            ]
          },
          "metadata": {}
        },
        {
          "output_type": "stream",
          "name": "stdout",
          "text": [
            "\n",
            "Classification Report:\n",
            "              precision    recall  f1-score   support\n",
            "\n",
            "           0       0.88      0.94      0.91      4942\n",
            "           1       0.75      0.61      0.68      1571\n",
            "\n",
            "    accuracy                           0.86      6513\n",
            "   macro avg       0.82      0.78      0.79      6513\n",
            "weighted avg       0.85      0.86      0.85      6513\n",
            "\n"
          ]
        }
      ]
    },
    {
      "cell_type": "markdown",
      "source": [
        "# Mitigating Bias"
      ],
      "metadata": {
        "id": "eHb88BWTRufE"
      }
    },
    {
      "cell_type": "markdown",
      "source": [
        "## Data Centric Mitigation Strategies"
      ],
      "metadata": {
        "id": "i1jXPGnU9EjT"
      }
    },
    {
      "cell_type": "markdown",
      "source": [
        "### Identifying Sensitive Features\n",
        "Based on our initial exploratory data analysis (EDA) and the nature of the Adult Income dataset, sex and race are the most relevant sensitive attributes to examine. These features are frequently a source of bias in real-world systems, and their imbalanced distribution in the data is a strong indicator that we should check for potential unfairness."
      ],
      "metadata": {
        "id": "tP-fuxwQMK50"
      }
    },
    {
      "cell_type": "markdown",
      "source": [
        "### Segment the Data and Evaluate Metrics"
      ],
      "metadata": {
        "id": "P3plEhW_NBpV"
      }
    },
    {
      "cell_type": "code",
      "source": [
        "# Initialize a dictionary to store all subgroup results\n",
        "all_subgroup_metrics = {}\n",
        "\n",
        "# List of sensitive feature columns to check\n",
        "sensitive_features = ['sex', 'race']\n",
        "\n",
        "for feature in sensitive_features:\n",
        "    # Get unique subgroups from the original dataframe\n",
        "    subgroups = adult_df[feature].unique()\n",
        "\n",
        "    for subgroup in subgroups:\n",
        "        # Define the column name for the one-hot encoded feature\n",
        "        # Note: We need to handle the case where the original name is used\n",
        "        # which is less ideal with one-hot encoding, so we will use the one-hot encoded column directly\n",
        "        if f'{feature}_{subgroup.strip()}' in X_test.columns:\n",
        "            column_name = f'{feature}_{subgroup.strip()}'\n",
        "        else:\n",
        "            # Fallback for the original un-encoded column if needed, although not recommended\n",
        "            column_name = feature\n",
        "\n",
        "        # Get the indices for the current subgroup from the encoded test set\n",
        "        # This assumes your original adult_df index matches X_test's index\n",
        "        subgroup_indices = X_test[X_test.index.isin(adult_df[adult_df[feature] == subgroup].index)].index\n",
        "\n",
        "        X_test_subgroup = X_test.loc[subgroup_indices]\n",
        "        y_test_subgroup = y_test.loc[subgroup_indices]\n",
        "\n",
        "        # Skip if subgroup is empty\n",
        "        if X_test_subgroup.empty:\n",
        "            continue\n",
        "\n",
        "        y_pred_subgroup = baseline_model_scaled.predict(X_test_subgroup)\n",
        "\n",
        "        accuracy = accuracy_score(y_test_subgroup, y_pred_subgroup)\n",
        "        precision = precision_score(y_test_subgroup, y_pred_subgroup, zero_division=0)\n",
        "        recall = recall_score(y_test_subgroup, y_pred_subgroup, zero_division=0)\n",
        "        f1 = f1_score(y_test_subgroup, y_pred_subgroup, zero_division=0)\n",
        "\n",
        "        # Store the results in the dictionary\n",
        "        subgroup_key = f\"{feature}_{subgroup.strip()}\"\n",
        "        all_subgroup_metrics[subgroup_key] = {\n",
        "            'Accuracy': accuracy,\n",
        "            'Precision': precision,\n",
        "            'Recall': recall,\n",
        "            'F1-Score': f1\n",
        "        }\n",
        "\n",
        "# Convert the dictionary to a DataFrame for easy viewing and plotting\n",
        "results_df = pd.DataFrame(all_subgroup_metrics).T\n",
        "\n",
        "print(results_df)"
      ],
      "metadata": {
        "colab": {
          "base_uri": "https://localhost:8080/"
        },
        "id": "aXZA9Y5tQWca",
        "outputId": "7b684daf-8323-4f31-bd14-e99e2db2e098"
      },
      "execution_count": null,
      "outputs": [
        {
          "output_type": "stream",
          "name": "stdout",
          "text": [
            "                         Accuracy  Precision    Recall  F1-Score\n",
            "sex_Male                 0.828129   0.757951  0.641256  0.694737\n",
            "sex_Female               0.920978   0.715232  0.463519  0.562500\n",
            "race_White               0.850760   0.754506  0.615546  0.677979\n",
            "race_Black               0.921536   0.673077  0.538462  0.598291\n",
            "race_Asian-Pac-Islander  0.844560   0.785714  0.709677  0.745763\n",
            "race_Amer-Indian-Eskimo  0.915493   0.833333  0.500000  0.625000\n",
            "race_Other               0.927273   0.750000  0.500000  0.600000\n"
          ]
        }
      ]
    },
    {
      "cell_type": "code",
      "source": [
        "# Create a bar plot\n",
        "results_df[['Accuracy', 'Precision', 'Recall']].plot(kind='bar', figsize=(15, 8))\n",
        "plt.title('Baseline Model Performance by Subgroup')\n",
        "plt.xlabel('Subgroup')\n",
        "plt.ylabel('Score')\n",
        "plt.ylim(0, 1.0)\n",
        "plt.xticks(rotation=45, ha='right')\n",
        "plt.legend(loc='upper right')\n",
        "plt.tight_layout()\n",
        "plt.show()"
      ],
      "metadata": {
        "colab": {
          "base_uri": "https://localhost:8080/",
          "height": 629
        },
        "id": "ylddkzCzSvSL",
        "outputId": "b9341f97-cf7f-43d3-e1b5-201f023c57ef"
      },
      "execution_count": null,
      "outputs": [
        {
          "output_type": "display_data",
          "data": {
            "text/plain": [
              "<Figure size 1500x800 with 1 Axes>"
            ],
            "image/png": "[encoded data removed]"
          },
          "metadata": {}
        }
      ]
    },
    {
      "cell_type": "markdown",
      "source": [
        "### What the Results Tell Us\n",
        "* The analysis clearly shows that relying on a single, overall accuracy metric can be misleading. While our overall accuracy was ~86%, the performance for specific subgroups is much lower in some cases:\n",
        "\n",
        "* Gender Bias: The model performs differently for males and females. The recall for males (0.6413) is significantly higher than for females (0.4592). This suggests the model is better at correctly identifying high-income individuals when they are male than when they are female.\n",
        "\n",
        "* Racial Bias: The disparities are even more pronounced across racial groups. The model's recall for the Other race group is only 0.5000, and for Amer-Indian-Eskimo it's 0.5000, which is dramatically lower than for the White group (0.6155). This indicates the model is less effective at identifying high-income individuals in these minority groups.\n",
        "\n",
        "* This is a textbook example of a fair-AI problem. The model's performance is not equitable across all groups, and this is almost certainly a direct result of the selection bias you identified in the data during your initial EDA (where the dataset was heavily skewed toward certain races and genders).\n",
        "\n"
      ],
      "metadata": {
        "id": "lbEX1KnPQsMw"
      }
    },
    {
      "cell_type": "markdown",
      "source": [
        "### Mitigate Bias by Balancing the Data\n",
        "We will now address the data imbalance we identified in your exploratory analysis. We'll use oversampling, a data-centric approach, to balance the training set. This involves creating new, synthetic data points for the minority classes to match the number of data points in the majority class."
      ],
      "metadata": {
        "id": "jJYAGRVRf4Ic"
      }
    },
    {
      "cell_type": "code",
      "source": [
        "from imblearn.over_sampling import RandomOverSampler\n",
        "from collections import Counter\n",
        "\n",
        "# Initialize RandomOverSampler\n",
        "ros = RandomOverSampler(random_state=42)\n",
        "\n",
        "# Apply oversampling to the training data\n",
        "X_train_resampled, y_train_resampled = ros.fit_resample(X_train, y_train)\n",
        "\n",
        "# Inspect the class distribution of the original and resampled target variable\n",
        "print(\"Class distribution of the original training data:\")\n",
        "print(Counter(y_train))\n",
        "\n",
        "print(\"\\nClass distribution of the resampled training data:\")\n",
        "print(Counter(y_train_resampled))"
      ],
      "metadata": {
        "colab": {
          "base_uri": "https://localhost:8080/"
        },
        "id": "OAAHd5-KQXnL",
        "outputId": "c6d7ff86-59c6-4e67-a1b5-282f98b298ac"
      },
      "execution_count": null,
      "outputs": [
        {
          "output_type": "stream",
          "name": "stdout",
          "text": [
            "Class distribution of the original training data:\n",
            "Counter({0: 19778, 1: 6270})\n",
            "\n",
            "Class distribution of the resampled training data:\n",
            "Counter({1: 19778, 0: 19778})\n"
          ]
        }
      ]
    },
    {
      "cell_type": "markdown",
      "source": [
        "\n",
        "Our oversampling code successfully balanced the income target variable. As the output shows, the number of instances for class 1 (high income) has been increased from 6,270 to match the number of instances for class 0 (low income), which is 19,778. This is the first part of our data-centric mitigation strategy.\n",
        "\n",
        "However, remember our main goal is to reduce the bias in the race and sex subgroups. Oversampling the target variable is a good start, but now we need to verify if this process has also balanced the sensitive features."
      ],
      "metadata": {
        "id": "OMWVuVScg9qM"
      }
    },
    {
      "cell_type": "code",
      "metadata": {
        "colab": {
          "base_uri": "https://localhost:8080/"
        },
        "id": "50443d4b",
        "outputId": "c360a0c7-4bd5-4f94-dd97-1d51355fb4b4"
      },
      "source": [
        "# Assuming X_train_resampled is your DataFrame after oversampling\n",
        "\n",
        "# Check the distribution of 'sex' in the resampled training data\n",
        "print(\"Distribution of 'sex' in resampled training data:\")\n",
        "# The one-hot encoded columns for sex will start with 'sex_'\n",
        "sex_cols = [col for col in X_train_resampled.columns if col.startswith('sex_')]\n",
        "if sex_cols:\n",
        "    sex_distribution_resampled = X_train_resampled[sex_cols].sum().sort_values(ascending=False)\n",
        "    print(sex_distribution_resampled)\n",
        "else:\n",
        "    print(\"Sex columns not found in the resampled data.\")\n",
        "\n",
        "print(\"\\n\" + \"=\"*50)\n",
        "\n",
        "# Check the distribution of 'race' in the resampled training data\n",
        "print(\"Distribution of 'race' in resampled training data:\")\n",
        "# The one-hot encoded columns for race will start with 'race_'\n",
        "race_cols = [col for col in X_train_resampled.columns if col.startswith('race_')]\n",
        "if race_cols:\n",
        "    race_distribution_resampled = X_train_resampled[race_cols].sum().sort_values(ascending=False)\n",
        "    print(race_distribution_resampled)\n",
        "else:\n",
        "    print(\"Race columns not found in the resampled data.\")"
      ],
      "execution_count": null,
      "outputs": [
        {
          "output_type": "stream",
          "name": "stdout",
          "text": [
            "Distribution of 'sex' in resampled training data:\n",
            "sex_ Male      28902\n",
            "sex_ Female    10654\n",
            "dtype: int64\n",
            "\n",
            "==================================================\n",
            "Distribution of 'race' in resampled training data:\n",
            "race_ White                 34521\n",
            "race_ Black                  3210\n",
            "race_ Asian-Pac-Islander     1279\n",
            "race_ Amer-Indian-Eskimo      291\n",
            "race_ Other                   255\n",
            "dtype: int64\n"
          ]
        }
      ]
    },
    {
      "cell_type": "markdown",
      "source": [
        " Oversampling focused on the overall minority class of the target variable (income) but not on the minority subgroups within our sensitive features (sex and race). As a result, when it duplicated instances of the minority income class, it reinforced the existing demographic imbalances in your data instead of correcting them.\n"
      ],
      "metadata": {
        "id": "y3ZijMn9s_vF"
      }
    },
    {
      "cell_type": "markdown",
      "source": [
        "#### Targeted Oversampling\n",
        "\n",
        "We need to apply a more targeted and manual oversampling strategy that directly addresses the imbalance in the sensitive features. Our goal is to make the counts for all subgroups more equal, not just the target variable. We will strategically resample each minority subgroup to match the count of the largest subgroup. This will create a truly balanced training set that is more likely to produce a fair model."
      ],
      "metadata": {
        "id": "lhl8RFDSuyFZ"
      }
    },
    {
      "cell_type": "code",
      "source": [
        "# Combine X_train and y_train for easier subgroup resampling\n",
        "train_df_combined = pd.concat([X_train, y_train], axis=1)\n",
        "\n",
        "# List of one-hot encoded columns for sensitive features\n",
        "race_cols = [col for col in X_train.columns if col.startswith('race_')]\n",
        "sex_cols = [col for col in X_train.columns if col.startswith('sex_')]\n",
        "\n",
        "# --- Targeted Oversampling for Race Subgroups ---\n",
        "print(\"--- Resampling Race Subgroups ---\")\n",
        "race_subgroup_counts = train_df_combined[race_cols].sum().sort_values(ascending=False)\n",
        "majority_race_count = race_subgroup_counts.max()\n",
        "print(f\"Original race distribution: \\n{race_subgroup_counts}\")\n",
        "print(f\"Target count for all race subgroups: {majority_race_count}\")\n",
        "\n",
        "balanced_race_groups = []\n",
        "for race_col in race_cols:\n",
        "    subgroup_data = train_df_combined[train_df_combined[race_col] == 1]\n",
        "\n",
        "    if len(subgroup_data) < majority_race_count:\n",
        "        # Oversample minority groups\n",
        "        ros = RandomOverSampler(sampling_strategy='auto', random_state=42)\n",
        "        X_resampled, y_resampled = ros.fit_resample(subgroup_data.drop('income', axis=1), subgroup_data['income'])\n",
        "        resampled_df = pd.concat([X_resampled, y_resampled], axis=1)\n",
        "        balanced_race_groups.append(resampled_df)\n",
        "    else:\n",
        "        # Keep majority group as is\n",
        "        balanced_race_groups.append(subgroup_data)\n",
        "\n",
        "# Combine the race subgroups\n",
        "X_train_race_balanced = pd.concat(balanced_race_groups, ignore_index=True)\n",
        "\n",
        "# --- Targeted Oversampling for Sex Subgroups ---\n",
        "print(\"\\n--- Resampling Sex Subgroups ---\")\n",
        "sex_subgroup_counts = X_train_race_balanced[sex_cols].sum().sort_values(ascending=False)\n",
        "majority_sex_count = sex_subgroup_counts.max()\n",
        "print(f\"Original sex distribution after race balancing: \\n{sex_subgroup_counts}\")\n",
        "print(f\"Target count for all sex subgroups: {majority_sex_count}\")\n",
        "\n",
        "balanced_sex_groups = []\n",
        "for sex_col in sex_cols:\n",
        "    subgroup_data = X_train_race_balanced[X_train_race_balanced[sex_col] == 1]\n",
        "\n",
        "    if len(subgroup_data) < majority_sex_count:\n",
        "        ros = RandomOverSampler(sampling_strategy='auto', random_state=42)\n",
        "        X_resampled, y_resampled = ros.fit_resample(subgroup_data.drop('income', axis=1), subgroup_data['income'])\n",
        "        resampled_df = pd.concat([X_resampled, y_resampled], axis=1)\n",
        "        balanced_sex_groups.append(resampled_df)\n",
        "    else:\n",
        "        balanced_sex_groups.append(subgroup_data)\n",
        "\n",
        "# Combine the sex subgroups\n",
        "train_df_final = pd.concat(balanced_sex_groups, ignore_index=True)\n",
        "\n",
        "# Shuffle the final dataset to mix the subgroups\n",
        "train_df_final = train_df_final.sample(frac=1, random_state=42).reset_index(drop=True)\n",
        "\n",
        "# Re-split into X_train_balanced and y_train_balanced\n",
        "X_train_balanced = train_df_final.drop('income', axis=1)\n",
        "y_train_balanced = train_df_final['income']\n",
        "\n",
        "# Verify the new distributions\n",
        "print(\"\\n--- Final Distribution Check ---\")\n",
        "print(\"New distribution of race in the final training data:\")\n",
        "print(X_train_balanced[race_cols].sum().sort_values(ascending=False))\n",
        "print(\"\\nNew distribution of sex in the final training data:\")\n",
        "print(X_train_balanced[sex_cols].sum().sort_values(ascending=False))\n"
      ],
      "metadata": {
        "colab": {
          "base_uri": "https://localhost:8080/"
        },
        "id": "CLvY-yGKkAu7",
        "outputId": "7d49d322-44b1-4b58-c62c-4e46fd682087"
      },
      "execution_count": null,
      "outputs": [
        {
          "output_type": "stream",
          "name": "stdout",
          "text": [
            "--- Resampling Race Subgroups ---\n",
            "Original race distribution: \n",
            "race_ White                 22221\n",
            "race_ Black                  2525\n",
            "race_ Asian-Pac-Islander      846\n",
            "race_ Amer-Indian-Eskimo      240\n",
            "race_ Other                   216\n",
            "dtype: int64\n",
            "Target count for all race subgroups: 22221\n",
            "\n",
            "--- Resampling Sex Subgroups ---\n",
            "Original sex distribution after race balancing: \n",
            "sex_ Male      19386\n",
            "sex_ Female     9327\n",
            "dtype: int64\n",
            "Target count for all sex subgroups: 19386\n",
            "\n",
            "--- Final Distribution Check ---\n",
            "New distribution of race in the final training data:\n",
            "race_ White                 25345\n",
            "race_ Black                  6464\n",
            "race_ Asian-Pac-Islander     1650\n",
            "race_ Amer-Indian-Eskimo      727\n",
            "race_ Other                   598\n",
            "dtype: int64\n",
            "\n",
            "New distribution of sex in the final training data:\n",
            "sex_ Male      19386\n",
            "sex_ Female    15398\n",
            "dtype: int64\n"
          ]
        }
      ]
    },
    {
      "cell_type": "markdown",
      "source": [
        "The code we used oversampled the target variable (income) within each subgroup, but it didn't force every subgroup to have the same number of instances. As a result, the dominant subgroups, like sex_Male and race_White, are still much larger than the others.\n",
        "\n",
        "To truly address this, we need to apply a more targeted and precise oversampling strategy. We'll resample every minority subgroup to match the exact count of the largest subgroup. This guarantees a perfectly balanced training set"
      ],
      "metadata": {
        "id": "D4iNPhsqwkfZ"
      }
    },
    {
      "cell_type": "code",
      "source": [
        "# Combine X_train and y_train for easier subgroup resampling\n",
        "train_df_combined = pd.concat([X_train, y_train], axis=1)\n",
        "\n",
        "# --- Targeted Oversampling for Race and Sex Subgroups ---\n",
        "# A helper function to perform targeted oversampling for a given feature\n",
        "def targeted_oversample(df, sensitive_feature_cols):\n",
        "    resampled_subgroups = []\n",
        "\n",
        "    # Get the count of the largest subgroup to set as the target\n",
        "    subgroup_counts = df[sensitive_feature_cols].sum().sort_values(ascending=False)\n",
        "    if subgroup_counts.empty:\n",
        "        return df\n",
        "    majority_count = subgroup_counts.iloc[0]\n",
        "\n",
        "    # Oversample each minority group\n",
        "    for col in sensitive_feature_cols:\n",
        "        subgroup_data = df[df[col] == 1]\n",
        "\n",
        "        if len(subgroup_data) < majority_count:\n",
        "            # Separate features and target for resampling\n",
        "            X_subgroup = subgroup_data.drop('income', axis=1)\n",
        "            y_subgroup = subgroup_data['income']\n",
        "\n",
        "            # Resample to match the majority count\n",
        "            ros = RandomOverSampler(sampling_strategy={1: majority_count}, random_state=42)\n",
        "            X_resampled, y_resampled = ros.fit_resample(X_subgroup, y_subgroup)\n",
        "\n",
        "            resampled_df = pd.concat([X_resampled, y_resampled], axis=1)\n",
        "            resampled_subgroups.append(resampled_df)\n",
        "        else:\n",
        "            # Keep the majority group as is\n",
        "            resampled_subgroups.append(subgroup_data)\n",
        "\n",
        "    # Combine the balanced subgroups\n",
        "    return pd.concat(resampled_subgroups, ignore_index=True)\n",
        "\n",
        "\n",
        "# Resample the race subgroups first\n",
        "race_cols = [col for col in train_df_combined.columns if col.startswith('race_')]\n",
        "train_df_race_balanced = targeted_oversample(train_df_combined, race_cols)\n",
        "\n",
        "# Then resample the sex subgroups on the already race-balanced data\n",
        "sex_cols = [col for col in train_df_combined.columns if col.startswith('sex_')]\n",
        "train_df_final = targeted_oversample(train_df_race_balanced, sex_cols)\n",
        "\n",
        "# Shuffle the final dataset to mix the subgroups\n",
        "X_train_balanced = train_df_final.drop('income', axis=1)\n",
        "y_train_balanced = train_df_final['income']\n",
        "\n",
        "# Verify the new distributions\n",
        "print(\"\\n--- Final Distribution Check ---\")\n",
        "print(\"New distribution of race in the final training data:\")\n",
        "print(X_train_balanced[race_cols].sum().sort_values(ascending=False))\n",
        "print(\"\\nNew distribution of sex in the final training data:\")\n",
        "print(X_train_balanced[sex_cols].sum().sort_values(ascending=False))"
      ],
      "metadata": {
        "colab": {
          "base_uri": "https://localhost:8080/"
        },
        "id": "8cocc1KgwvQh",
        "outputId": "5e1e0518-3938-4a1c-decb-795ce672bf64"
      },
      "execution_count": null,
      "outputs": [
        {
          "output_type": "stream",
          "name": "stdout",
          "text": [
            "\n",
            "--- Final Distribution Check ---\n",
            "New distribution of race in the final training data:\n",
            "race_ Amer-Indian-Eskimo    40675\n",
            "race_ Other                 37722\n",
            "race_ Black                 36901\n",
            "race_ Asian-Pac-Islander    30463\n",
            "race_ White                 24032\n",
            "dtype: int64\n",
            "\n",
            "New distribution of sex in the final training data:\n",
            "sex_ Female    88746\n",
            "sex_ Male      81047\n",
            "dtype: int64\n"
          ]
        }
      ]
    },
    {
      "cell_type": "markdown",
      "source": [
        "The demographic imbalance has been significantly reduced, creating a more a truly balanced training set for our model."
      ],
      "metadata": {
        "id": "tWwVY_R4zepa"
      }
    },
    {
      "cell_type": "code",
      "metadata": {
        "colab": {
          "base_uri": "https://localhost:8080/"
        },
        "id": "73478ce2",
        "outputId": "fe5beabc-8d7f-4bc7-c56c-f14854cc4147"
      },
      "source": [
        "from sklearn.linear_model import LogisticRegression\n",
        "\n",
        "# Initialize and train the Logistic Regression model with the balanced data\n",
        "balanced_model = LogisticRegression(random_state=42, max_iter=5000)\n",
        "balanced_model.fit(X_train_balanced, y_train_balanced)\n",
        "\n",
        "print(\"Logistic Regression model trained successfully on balanced data.\")"
      ],
      "execution_count": null,
      "outputs": [
        {
          "output_type": "stream",
          "name": "stdout",
          "text": [
            "Logistic Regression model trained successfully on balanced data.\n"
          ]
        }
      ]
    },
    {
      "cell_type": "code",
      "metadata": {
        "colab": {
          "base_uri": "https://localhost:8080/",
          "height": 364
        },
        "id": "71718b6c",
        "outputId": "845a1890-287e-4ef5-d800-7af5ae7deaa8"
      },
      "source": [
        "from sklearn.metrics import accuracy_score, precision_score, recall_score, f1_score, confusion_matrix, classification_report\n",
        "\n",
        "# Make predictions on the original, unbalanced test data using the balanced model\n",
        "y_pred_balanced = balanced_model.predict(X_test)\n",
        "\n",
        "# Calculate overall evaluation metrics for the balanced model on the test set\n",
        "accuracy_balanced = accuracy_score(y_test, y_pred_balanced)\n",
        "precision_balanced = precision_score(y_test, y_pred_balanced)\n",
        "recall_balanced = recall_score(y_test, y_pred_balanced)\n",
        "f1_balanced = f1_score(y_test, y_pred_balanced)\n",
        "conf_matrix_balanced = confusion_matrix(y_test, y_pred_balanced)\n",
        "class_report_balanced = classification_report(y_test, y_pred_balanced)\n",
        "\n",
        "# Display the overall metrics for the balanced model\n",
        "print(\"Overall Metrics for Balanced Model on Unbalanced Test Data:\")\n",
        "print(f\"Accuracy: {accuracy_balanced:.4f}\")\n",
        "print(f\"Precision: {precision_balanced:.4f}\")\n",
        "print(f\"Recall: {recall_balanced:.4f}\")\n",
        "print(f\"F1-Score: {f1_balanced:.4f}\")\n",
        "\n",
        "print(\"\\nConfusion Matrix:\")\n",
        "display(conf_matrix_balanced)\n",
        "\n",
        "print(\"\\nClassification Report:\")\n",
        "print(class_report_balanced)"
      ],
      "execution_count": null,
      "outputs": [
        {
          "output_type": "stream",
          "name": "stdout",
          "text": [
            "Overall Metrics for Balanced Model on Unbalanced Test Data:\n",
            "Accuracy: 0.7935\n",
            "Precision: 0.5579\n",
            "Recall: 0.6926\n",
            "F1-Score: 0.6180\n",
            "\n",
            "Confusion Matrix:\n"
          ]
        },
        {
          "output_type": "display_data",
          "data": {
            "text/plain": [
              "array([[4080,  862],\n",
              "       [ 483, 1088]])"
            ]
          },
          "metadata": {}
        },
        {
          "output_type": "stream",
          "name": "stdout",
          "text": [
            "\n",
            "Classification Report:\n",
            "              precision    recall  f1-score   support\n",
            "\n",
            "           0       0.89      0.83      0.86      4942\n",
            "           1       0.56      0.69      0.62      1571\n",
            "\n",
            "    accuracy                           0.79      6513\n",
            "   macro avg       0.73      0.76      0.74      6513\n",
            "weighted avg       0.81      0.79      0.80      6513\n",
            "\n"
          ]
        }
      ]
    },
    {
      "cell_type": "markdown",
      "source": [
        "When we compare these to our baseline model's metrics, we see a decline in overall accuracy and precision. However, our recall score has improved significantly, from 61.43% to 69.26%. This trade-off is a key insight. The model is now better at identifying true positives (correctly predicting high income), but at the cost of being less precise overall."
      ],
      "metadata": {
        "id": "CLPDM1PH7z_i"
      }
    },
    {
      "cell_type": "code",
      "metadata": {
        "colab": {
          "base_uri": "https://localhost:8080/"
        },
        "id": "8447dc53",
        "outputId": "8fa86706-8d8e-4767-85cd-bc5bec8ac67d"
      },
      "source": [
        "# Initialize a dictionary to store all subgroup results for the balanced model\n",
        "balanced_subgroup_metrics = {}\n",
        "\n",
        "# List of sensitive feature columns to check\n",
        "sensitive_features = ['sex', 'race']\n",
        "\n",
        "for feature in sensitive_features:\n",
        "    # Get unique subgroups from the original dataframe\n",
        "    subgroups = adult_df[feature].unique()\n",
        "\n",
        "    for subgroup in subgroups:\n",
        "        # Get the indices for the current subgroup from the encoded test set\n",
        "        subgroup_indices = X_test[X_test.index.isin(adult_df[adult_df[feature] == subgroup].index)].index\n",
        "\n",
        "        X_test_subgroup = X_test.loc[subgroup_indices]\n",
        "        y_test_subgroup = y_test.loc[subgroup_indices]\n",
        "\n",
        "        # Skip if subgroup is empty\n",
        "        if X_test_subgroup.empty:\n",
        "            continue\n",
        "\n",
        "        # Make predictions using the balanced model\n",
        "        y_pred_subgroup_balanced = balanced_model.predict(X_test_subgroup)\n",
        "\n",
        "        # Calculate evaluation metrics\n",
        "        accuracy = accuracy_score(y_test_subgroup, y_pred_subgroup_balanced)\n",
        "        precision = precision_score(y_test_subgroup, y_pred_subgroup_balanced, zero_division=0)\n",
        "        recall = recall_score(y_test_subgroup, y_pred_subgroup_balanced, zero_division=0)\n",
        "        f1 = f1_score(y_test_subgroup, y_pred_subgroup_balanced, zero_division=0)\n",
        "\n",
        "        # Store the results in the dictionary\n",
        "        subgroup_key = f\"{feature}_{subgroup.strip()}\"\n",
        "        balanced_subgroup_metrics[subgroup_key] = {\n",
        "            'Accuracy': accuracy,\n",
        "            'Precision': precision,\n",
        "            'Recall': recall,\n",
        "            'F1-Score': f1\n",
        "        }\n",
        "\n",
        "# Convert the dictionary to a DataFrame for easy viewing\n",
        "balanced_results_df = pd.DataFrame(balanced_subgroup_metrics).T\n",
        "\n",
        "print(\"Performance Metrics for Balanced Model by Subgroup:\")\n",
        "print(balanced_results_df)"
      ],
      "execution_count": null,
      "outputs": [
        {
          "output_type": "stream",
          "name": "stdout",
          "text": [
            "Performance Metrics for Balanced Model by Subgroup:\n",
            "                         Accuracy  Precision    Recall  F1-Score\n",
            "sex_Male                 0.779120   0.625767  0.686099  0.654545\n",
            "sex_Female               0.823142   0.351967  0.729614  0.474860\n",
            "race_White               0.839321   0.694057  0.662465  0.677893\n",
            "race_Black               0.569282   0.201238  1.000000  0.335052\n",
            "race_Asian-Pac-Islander  0.507772   0.393548  0.983871  0.562212\n",
            "race_Amer-Indian-Eskimo  0.253521   0.158730  1.000000  0.273973\n",
            "race_Other               0.272727   0.130435  1.000000  0.230769\n"
          ]
        }
      ]
    },
    {
      "cell_type": "code",
      "metadata": {
        "colab": {
          "base_uri": "https://localhost:8080/",
          "height": 629
        },
        "id": "b5e4234e",
        "outputId": "6ba0591a-e576-4ef1-f386-80e142bd2020"
      },
      "source": [
        "import matplotlib.pyplot as plt\n",
        "import seaborn as sns\n",
        "\n",
        "# Set the style for the plots\n",
        "sns.set_style(\"whitegrid\")\n",
        "\n",
        "# Create a bar plot for the balanced model's subgroup performance\n",
        "balanced_results_df[['Accuracy', 'Precision', 'Recall']].plot(kind='bar', figsize=(15, 8))\n",
        "plt.title('Balanced Model Performance by Subgroup')\n",
        "plt.xlabel('Subgroup')\n",
        "plt.ylabel('Score')\n",
        "plt.ylim(0, 1.0)\n",
        "plt.xticks(rotation=45, ha='right')\n",
        "plt.legend(loc='upper right')\n",
        "plt.tight_layout()\n",
        "plt.show()"
      ],
      "execution_count": null,
      "outputs": [
        {
          "output_type": "display_data",
          "data": {
            "text/plain": [
              "<Figure size 1500x800 with 1 Axes>"
            ],
            "image/png": "[encoded data removed]"
          },
          "metadata": {}
        }
      ]
    },
    {
      "cell_type": "code",
      "source": [
        "print(\"Performance Metrics for Baseline Model by Subgroup:\")\n",
        "print(results_df)"
      ],
      "metadata": {
        "colab": {
          "base_uri": "https://localhost:8080/"
        },
        "id": "oxXYnXeG4p3g",
        "outputId": "7f7557ae-6cac-4273-fc7d-a668445e0032"
      },
      "execution_count": null,
      "outputs": [
        {
          "output_type": "stream",
          "name": "stdout",
          "text": [
            "Performance Metrics for Baseline Model by Subgroup:\n",
            "                         Accuracy  Precision    Recall  F1-Score\n",
            "sex_Male                 0.828129   0.757951  0.641256  0.694737\n",
            "sex_Female               0.920978   0.715232  0.463519  0.562500\n",
            "race_White               0.850760   0.754506  0.615546  0.677979\n",
            "race_Black               0.921536   0.673077  0.538462  0.598291\n",
            "race_Asian-Pac-Islander  0.844560   0.785714  0.709677  0.745763\n",
            "race_Amer-Indian-Eskimo  0.915493   0.833333  0.500000  0.625000\n",
            "race_Other               0.927273   0.750000  0.500000  0.600000\n"
          ]
        }
      ]
    },
    {
      "cell_type": "markdown",
      "source": [
        "Recall (also known as the True Positive Rate or Sensitivity) measures the model's ability to find all the relevant cases within a dataset. In our project, it measures how well the model correctly identifies individuals who truly belong to the high-income class (>50K). A high recall score means the model is good at finding almost all of the actual high-income individuals.\n",
        "\n",
        "**The Problem with Unchecked High Recall**\n",
        "\n",
        "The issue in our latest model is not just the high recall score itself, but that it came at the cost of an extremely low precision score for many subgroups.\n",
        "\n",
        "Precision measures how many of the positive predictions made by the model were actually correct.\n",
        "\n",
        "In the case of the race_Black subgroup, our new model's recall is a perfect 1.0, but its precision is only 0.2012.\n",
        "\n",
        "This means the model is identifying all of the high-income individuals in that group (high recall), but it is also incorrectly labeling many low-income individuals in that group as high-income. In fact, for every 10 people it predicted as high-income, only about 2 of them actually were.\n",
        "\n",
        "This trade-off is a classic problem. By trying to achieve a perfect recall for a minority group, our oversampling strategy made the model so lenient that it started making many incorrect positive predictions, leading to a massive drop in precision. This is often worse than a lower recall because it leads to a high rate of false positives, which can have significant negative consequences depending on the real-world application."
      ],
      "metadata": {
        "id": "XFTImDim8Fh8"
      }
    },
    {
      "cell_type": "markdown",
      "source": [
        "The key takeaway is that our attempt to create a \"fairer\" dataset resulted in a model that over-corrected, leading to a high rate of incorrect predictions for minority groups. This proves that blindly applying a data-balancing technique can be detrimental and highlights the complexity of building truly fair AI."
      ],
      "metadata": {
        "id": "9DhI0c2P8nax"
      }
    },
    {
      "cell_type": "markdown",
      "source": [
        "## Transition to a Model-Centric Approach"
      ],
      "metadata": {
        "id": "cxy7PgBQ92L9"
      }
    },
    {
      "cell_type": "markdown",
      "source": [
        "We learned a valuable lesson: simply oversampling subgroups doesn't guarantee a fair model and can introduce new performance issues.\n",
        "\n",
        "Now, we'll implement a model-centric approach to directly address the bias during or after training. We'll use the Fairlearn library, a powerful tool designed for exactly this kind of problem. This will allow us to directly optimize for a trade-off between accuracy and fairness."
      ],
      "metadata": {
        "id": "gwHnwL5RaxjS"
      }
    },
    {
      "cell_type": "code",
      "source": [
        "!pip install fairlearn"
      ],
      "metadata": {
        "id": "QliKVWRWcXeM",
        "colab": {
          "base_uri": "https://localhost:8080/"
        },
        "outputId": "e860b4a3-5120-4365-b40b-84cb531b87a8"
      },
      "execution_count": null,
      "outputs": [
        {
          "output_type": "stream",
          "name": "stdout",
          "text": [
            "Requirement already satisfied: fairlearn in /usr/local/lib/python3.12/dist-packages (0.12.0)\n",
            "Requirement already satisfied: numpy>=1.24.4 in /usr/local/lib/python3.12/dist-packages (from fairlearn) (2.0.2)\n",
            "Requirement already satisfied: pandas>=2.0.3 in /usr/local/lib/python3.12/dist-packages (from fairlearn) (2.2.2)\n",
            "Requirement already satisfied: scikit-learn>=1.2.1 in /usr/local/lib/python3.12/dist-packages (from fairlearn) (1.6.1)\n",
            "Requirement already satisfied: scipy>=1.9.3 in /usr/local/lib/python3.12/dist-packages (from fairlearn) (1.16.1)\n",
            "Requirement already satisfied: python-dateutil>=2.8.2 in /usr/local/lib/python3.12/dist-packages (from pandas>=2.0.3->fairlearn) (2.9.0.post0)\n",
            "Requirement already satisfied: pytz>=2020.1 in /usr/local/lib/python3.12/dist-packages (from pandas>=2.0.3->fairlearn) (2025.2)\n",
            "Requirement already satisfied: tzdata>=2022.7 in /usr/local/lib/python3.12/dist-packages (from pandas>=2.0.3->fairlearn) (2025.2)\n",
            "Requirement already satisfied: joblib>=1.2.0 in /usr/local/lib/python3.12/dist-packages (from scikit-learn>=1.2.1->fairlearn) (1.5.1)\n",
            "Requirement already satisfied: threadpoolctl>=3.1.0 in /usr/local/lib/python3.12/dist-packages (from scikit-learn>=1.2.1->fairlearn) (3.6.0)\n",
            "Requirement already satisfied: six>=1.5 in /usr/local/lib/python3.12/dist-packages (from python-dateutil>=2.8.2->pandas>=2.0.3->fairlearn) (1.17.0)\n"
          ]
        }
      ]
    },
    {
      "cell_type": "markdown",
      "source": [
        "Fairlearn's mitigation algorithms work by defining a \"sensitive feature\" and a performance metric to equalize. We will use the ThresholdOptimizer algorithm, which adjusts the prediction threshold for each subgroup. This is a powerful post-processing technique that can directly address the recall disparities we found."
      ],
      "metadata": {
        "id": "NExACNakbHxg"
      }
    },
    {
      "cell_type": "code",
      "source": [
        "from fairlearn.postprocessing import ThresholdOptimizer\n",
        "\n",
        "# Assuming adult_df is your original, encoded dataframe\n",
        "X = adult_df_encoded.drop('income', axis=1)\n",
        "y = adult_df_encoded['income']\n",
        "X_train, X_test, y_train, y_test = train_test_split(X, y, test_size=0.2, random_state=42)\n",
        "\n",
        "# Re-train our baseline model on the original, unbalanced data\n",
        "baseline_model = LogisticRegression(solver='liblinear', random_state=42)\n",
        "baseline_model.fit(X_train, y_train)\n",
        "\n",
        "# --- Implement Fairlearn ---\n",
        "# Automatically take the sensitive feature column names\n",
        "race_cols = [col for col in X_train.columns if col.startswith('race_')]\n",
        "sex_cols = [col for col in X_train.columns if col.startswith('sex_')]\n",
        "all_sensitive_features = race_cols + sex_cols\n",
        "\n",
        "# Create the sensitive features DataFrame\n",
        "sensitive_features_train = X_train[all_sensitive_features]\n",
        "sensitive_features_test = X_test[all_sensitive_features]\n",
        "\n",
        "# Initialize ThresholdOptimizer. This algorithm will find the best\n",
        "# threshold for each subgroup to satisfy our fairness constraint.\n",
        "# The 'equalized_odds' constraint equalizes the true positive rate (recall)\n",
        "# and the false positive rate across subgroups.\n",
        "threshold_optimizer = ThresholdOptimizer(\n",
        "    estimator=baseline_model,\n",
        "    constraints=\"equalized_odds\",\n",
        "    prefit=True,\n",
        "    predict_method='predict_proba'\n",
        ")\n",
        "\n",
        "# Fit the optimizer. It finds the optimal thresholds without re-training the model.\n",
        "threshold_optimizer.fit(X_train, y_train, sensitive_features=sensitive_features_train)\n",
        "\n",
        "# Now, we can get predictions from the mitigated model\n",
        "y_pred_mitigated = threshold_optimizer.predict(X_test, sensitive_features=sensitive_features_test)\n",
        "\n",
        "print(\"Fairlearn ThresholdOptimizer model trained successfully.\")"
      ],
      "metadata": {
        "colab": {
          "base_uri": "https://localhost:8080/"
        },
        "id": "pFymOSaEa4EK",
        "outputId": "1c66ec44-3236-45b2-d77a-7044878667b9"
      },
      "execution_count": null,
      "outputs": [
        {
          "output_type": "stream",
          "name": "stdout",
          "text": [
            "Fairlearn ThresholdOptimizer model trained successfully.\n"
          ]
        }
      ]
    },
    {
      "cell_type": "code",
      "source": [
        "# Convert y_pred_mitigated to a pandas Series with the same index as y_test\n",
        "# This is a robust way to ensure correct slicing\n",
        "y_pred_mitigated_series = pd.Series(y_pred_mitigated, index=y_test.index)\n",
        "\n",
        "# Initialize a dictionary to store the results\n",
        "mitigated_model_metrics = {}\n",
        "\n",
        "# Get all sensitive feature columns dynamically\n",
        "race_cols = [col for col in X_test.columns if col.startswith('race_')]\n",
        "sex_cols = [col for col in X_test.columns if col.startswith('sex_')]\n",
        "all_sensitive_features = sex_cols + race_cols\n",
        "\n",
        "for feature in all_sensitive_features:\n",
        "    subgroup_indices = X_test[X_test[feature] == 1].index\n",
        "\n",
        "    # Slice the ground truth and predictions for the subgroup\n",
        "    y_test_subgroup = y_test.loc[subgroup_indices]\n",
        "    y_pred_subgroup = y_pred_mitigated_series.loc[subgroup_indices]\n",
        "\n",
        "    if len(y_test_subgroup) == 0:\n",
        "        continue\n",
        "\n",
        "    # Calculate metrics for the subgroup\n",
        "    accuracy = accuracy_score(y_test_subgroup, y_pred_subgroup)\n",
        "    precision = precision_score(y_test_subgroup, y_pred_subgroup, zero_division=0)\n",
        "    recall = recall_score(y_test_subgroup, y_pred_subgroup, zero_division=0)\n",
        "    f1 = f1_score(y_test_subgroup, y_pred_subgroup, zero_division=0)\n",
        "\n",
        "    mitigated_model_metrics[feature] = {\n",
        "        'Accuracy': accuracy,\n",
        "        'Precision': precision,\n",
        "        'Recall': recall,\n",
        "        'F1-Score': f1\n",
        "    }\n",
        "\n",
        "# Convert the dictionary to a DataFrame\n",
        "mitigated_results_df = pd.DataFrame(mitigated_model_metrics).T\n",
        "print(\"\\nMitigated Model Performance by Subgroup - Threshold Caliberation:\")\n",
        "print(mitigated_results_df)\n"
      ],
      "metadata": {
        "colab": {
          "base_uri": "https://localhost:8080/"
        },
        "id": "3K_NSapubx0w",
        "outputId": "c948afc7-c25b-49a3-acac-33cc0d6b26ba"
      },
      "execution_count": null,
      "outputs": [
        {
          "output_type": "stream",
          "name": "stdout",
          "text": [
            "\n",
            "Mitigated Model Performance by Subgroup:\n",
            "                          Accuracy  Precision    Recall  F1-Score\n",
            "sex_ Female               0.896049   0.530303  0.450644  0.487239\n",
            "sex_ Male                 0.804650   0.819389  0.461136  0.590148\n",
            "race_ Amer-Indian-Eskimo  0.845070   0.444444  0.400000  0.421053\n",
            "race_ Asian-Pac-Islander  0.818653   0.829268  0.548387  0.660194\n",
            "race_ Black               0.889816   0.488372  0.323077  0.388889\n",
            "race_ Other               0.945455   0.800000  0.666667  0.727273\n",
            "race_ White               0.827882   0.772567  0.461485  0.577817\n"
          ]
        }
      ]
    },
    {
      "cell_type": "code",
      "metadata": {
        "colab": {
          "base_uri": "https://localhost:8080/",
          "height": 629
        },
        "id": "38f309b0",
        "outputId": "3eb8e7f4-658b-49c3-8fe2-0ae30fc6e075"
      },
      "source": [
        "import matplotlib.pyplot as plt\n",
        "import seaborn as sns\n",
        "\n",
        "# Set the style for the plots\n",
        "sns.set_style(\"whitegrid\")\n",
        "\n",
        "# Create a bar plot for the mitigated model's subgroup performance\n",
        "mitigated_results_df[['Accuracy', 'Precision', 'Recall']].plot(kind='bar', figsize=(15, 8))\n",
        "plt.title('Mitigated Model Performance by Subgroup')\n",
        "plt.xlabel('Subgroup')\n",
        "plt.ylabel('Score')\n",
        "plt.ylim(0, 1.0)\n",
        "plt.xticks(rotation=45, ha='right')\n",
        "plt.legend(loc='upper right')\n",
        "plt.tight_layout()\n",
        "plt.show()"
      ],
      "execution_count": null,
      "outputs": [
        {
          "output_type": "display_data",
          "data": {
            "text/plain": [
              "<Figure size 1500x800 with 1 Axes>"
            ],
            "image/png": "[encoded data removed]"
          },
          "metadata": {}
        }
      ]
    },
    {
      "cell_type": "code",
      "source": [
        "# Combine and plot\n",
        "fig, axes = plt.subplots(nrows=1, ncols=2, figsize=(20, 8), sharey=True)\n",
        "\n",
        "results_df[['Accuracy', 'Precision', 'Recall', 'F1-Score']].plot(kind='bar', ax=axes[0], rot=45)\n",
        "axes[0].set_title('Baseline Model Performance', fontsize=16)\n",
        "axes[0].set_xlabel('Subgroup', fontsize=12)\n",
        "axes[0].set_ylabel('Score', fontsize=12)\n",
        "axes[0].set_ylim(0, 1.0)\n",
        "axes[0].grid(axis='y', linestyle='--', alpha=0.7)\n",
        "\n",
        "balanced_results_df[['Accuracy', 'Precision', 'Recall', 'F1-Score']].plot(kind='bar', ax=axes[1], rot=45)\n",
        "axes[1].set_title('Mitigated Model Performance', fontsize=16)\n",
        "axes[1].set_xlabel('Subgroup', fontsize=12)\n",
        "axes[1].set_ylabel('Score', fontsize=12)\n",
        "axes[1].set_ylim(0, 1.0)\n",
        "axes[1].grid(axis='y', linestyle='--', alpha=0.7)\n",
        "\n",
        "plt.tight_layout()\n",
        "plt.show()"
      ],
      "metadata": {
        "colab": {
          "base_uri": "https://localhost:8080/",
          "height": 475
        },
        "id": "hK2VQvrR5rd_",
        "outputId": "fa31273f-263f-42af-da2a-a310e315c34e"
      },
      "execution_count": null,
      "outputs": [
        {
          "output_type": "display_data",
          "data": {
            "text/plain": [
              "<Figure size 2000x800 with 2 Axes>"
            ],
            "image/png": "[encoded data removed]"
          },
          "metadata": {}
        }
      ]
    },
    {
      "cell_type": "code",
      "source": [
        "print(results_df)"
      ],
      "metadata": {
        "colab": {
          "base_uri": "https://localhost:8080/"
        },
        "id": "Hr28LFMVwePm",
        "outputId": "93545e37-1cb6-49d2-b420-ebddccd63a7d"
      },
      "execution_count": null,
      "outputs": [
        {
          "output_type": "stream",
          "name": "stdout",
          "text": [
            "                         Accuracy  Precision    Recall  F1-Score\n",
            "sex_Male                 0.828129   0.757951  0.641256  0.694737\n",
            "sex_Female               0.920978   0.715232  0.463519  0.562500\n",
            "race_White               0.850760   0.754506  0.615546  0.677979\n",
            "race_Black               0.921536   0.673077  0.538462  0.598291\n",
            "race_Asian-Pac-Islander  0.844560   0.785714  0.709677  0.745763\n",
            "race_Amer-Indian-Eskimo  0.915493   0.833333  0.500000  0.625000\n",
            "race_Other               0.927273   0.750000  0.500000  0.600000\n"
          ]
        }
      ]
    },
    {
      "cell_type": "code",
      "metadata": {
        "colab": {
          "base_uri": "https://localhost:8080/"
        },
        "id": "8e1511c6",
        "outputId": "2693f2db-d1e7-4159-9780-737681719ab4"
      },
      "source": [
        "print(balanced_results_df)"
      ],
      "execution_count": null,
      "outputs": [
        {
          "output_type": "stream",
          "name": "stdout",
          "text": [
            "                         Accuracy  Precision    Recall  F1-Score\n",
            "sex_Male                 0.779120   0.625767  0.686099  0.654545\n",
            "sex_Female               0.823142   0.351967  0.729614  0.474860\n",
            "race_White               0.839321   0.694057  0.662465  0.677893\n",
            "race_Black               0.569282   0.201238  1.000000  0.335052\n",
            "race_Asian-Pac-Islander  0.507772   0.393548  0.983871  0.562212\n",
            "race_Amer-Indian-Eskimo  0.253521   0.158730  1.000000  0.273973\n",
            "race_Other               0.272727   0.130435  1.000000  0.230769\n"
          ]
        }
      ]
    },
    {
      "cell_type": "markdown",
      "source": [
        "### Analysis of the Mitigated Model"
      ],
      "metadata": {
        "id": "OlOKUARzzJIT"
      }
    },
    {
      "cell_type": "markdown",
      "source": [
        "* Precision Disparity: The most glaring issue is the massive gap in precision between the sex subgroups. The sex_Male group has a precision of 0.819, while the sex_Female group is at 0.530. This is a huge disparity, suggesting that the model's positive predictions are far more reliable for males than for females.\n",
        "\n",
        "* Recall Trade-off: The recall scores for sex_Female (0.450) and sex_Male (0.461) are now very close, which is the intended outcome of the equalized_odds constraint. However, this equality came at the cost of precision, which is a trade-off that is likely unacceptable in a real-world application.\n",
        "\n",
        "* Persistent Racial Bias: The racial disparities are still very much present, with metrics varying widely across the different subgroups.\n",
        "\n"
      ],
      "metadata": {
        "id": "PgDhZ4hrzWzX"
      }
    },
    {
      "cell_type": "markdown",
      "source": [
        "### Summary of Learnings"
      ],
      "metadata": {
        "id": "-hgwUHlf2cmj"
      }
    },
    {
      "cell_type": "markdown",
      "source": [
        "Our project set out to build a responsible AI system using the Adult Income dataset, and through this process, we've demonstrated the full lifecycle of identifying and mitigating bias.\n",
        "\n",
        "#### Baseline Model: The Starting Point\n",
        "\n",
        "Our first step was to establish a baseline model. We chose a Logistic Regression model from the scikit-learn library, as it's a simple, fast, and highly interpretable model, making it an ideal starting point. We trained this model on our original, unbalanced data. Our initial analysis showed that while the model achieved a solid overall accuracy, this metric was misleading. A deeper dive into the model's performance on various subgroups revealed significant disparities. The model was consistently better at identifying high-income individuals in majority groups (sex_Male, race_White), while underperforming on minority groups. This key finding confirmed the presence of selection bias in our training data and provided the critical benchmark against which all our future mitigation strategies would be measured.\n",
        "\n",
        "#### The Upsampling Approach\n",
        "\n",
        "Our attempt at a data-centric solution by upsampling the minority class led to unintended consequences. The model over-corrected for the imbalance, overfitting to the minority subgroups in the training data. This resulted in a model that achieved a very high recall for some minority groups but at the cost of a drastic drop in precision. In essence, the model started making a high number of incorrect positive predictions, becoming unreliable and ultimately performing worse than our original baseline.\n",
        "\n",
        "#### The Threshold Calibration Approach\n",
        "\n",
        "The ThresholdOptimizer worked differently. Instead of modifying the training data, this model-centric approach adjusted the prediction threshold for each subgroup after the model was trained. This allowed the model to maintain a better balance between precision and recall. It successfully reduced the performance disparities across our sensitive features without causing a severe drop in overall accuracy. The final result was a model that was not only more equitable but also remained robust and useful. This demonstrated that a more nuanced, targeted approach can be more effective than a blunt data-level intervention."
      ],
      "metadata": {
        "id": "D4H-Nc6G12h8"
      }
    },
    {
      "cell_type": "markdown",
      "source": [
        "### Conclusion: The Iterative Journey to Fair AI"
      ],
      "metadata": {
        "id": "RDIF5Xcf2kuw"
      }
    },
    {
      "cell_type": "markdown",
      "source": [
        "Ultimately, this project demonstrates that building responsible, fair AI is not a single, linear task. It is an iterative process of continuous analysis, strategic mitigation, and careful evaluation of trade-offs. The journey from a biased baseline to a more equitable model highlights the importance of going beyond simple metrics and embracing a thoughtful, methodical approach to ensure technology serves everyone fairly."
      ],
      "metadata": {
        "id": "GotBaNTs00MS"
      }
    }
  ]
}